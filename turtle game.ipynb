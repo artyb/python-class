{
 "cells": [
  {
   "cell_type": "code",
   "execution_count": 1,
   "metadata": {
    "scrolled": true
   },
   "outputs": [
    {
     "name": "stdout",
     "output_type": "stream",
     "text": [
      "enter number of racers(2-10)4\n",
      "winner is cyan\n"
     ]
    }
   ],
   "source": [
    "import turtle\n",
    "import time\n",
    "import random\n",
    "\n",
    "WIDTH,HEIGHT = 500,500\n",
    "COLORS = ['red', 'green', 'blue', 'orange', 'yellow', 'black', 'purple', 'pink', 'brown', 'cyan']\n",
    "screen = turtle.Screen()\n",
    "screen.setup(WIDTH,HEIGHT)\n",
    "screen.title(\"hello this my turtle game\")\n",
    "\n",
    "def get_numbers_of_racers():\n",
    "    racers = 0\n",
    "    while True:\n",
    "        racers = input(\"enter number of racers(2-10)\")\n",
    "        if racers.isdigit():\n",
    "            racers = int(racers)\n",
    "        else:\n",
    "            print(\"you must enter the number ..!\")\n",
    "            continue\n",
    "        if 2<= racers <=10:\n",
    "            return racers\n",
    "        else:\n",
    "            print(\"enter the number between 2 to 10 ..!\")\n",
    "\n",
    "def create_turtles(colors):\n",
    "    turtles = []\n",
    "    spacingx = WIDTH // (len(colors)+1)\n",
    "    for i,color in enumerate(colors):\n",
    "        racer = turtle.Turtle()\n",
    "        racer.color(color)\n",
    "        racer.shape('turtle')\n",
    "        racer.left(90)\n",
    "        racer.penup()\n",
    "        racer.setpos(-WIDTH//2 +(i+1) *spacingx, -HEIGHT//2+20)\n",
    "        racer.pendown()\n",
    "        turtles.append(racer)\n",
    "    return turtles\n",
    "\n",
    "def race(colors):\n",
    "    turtles = create_turtles(colors)\n",
    "    while True:\n",
    "        for racer in turtles:\n",
    "            distance = random.randrange(1,20)\n",
    "            racer.forward(distance)\n",
    "        \n",
    "            x,y = racer.pos()\n",
    "            if y >= HEIGHT//2 -10:\n",
    "                return colors[turtles.index(racer)]\n",
    "            \n",
    "    \n",
    "def init_turtle():\n",
    "    screen = turtle.Screen()\n",
    "    screen.setup(WIDTH,HEIGHT)\n",
    "    screen.title(\"hello this my turtle game\")\n",
    "    \n",
    "racers = get_numbers_of_racers()\n",
    "\n",
    "init_turtle()\n",
    "\n",
    "random.shuffle(COLORS)\n",
    "colors = COLORS[:racers]\n",
    "\n",
    "create_turtles(colors)\n",
    "winner = race(colors)\n",
    "\n",
    "print(\"winner is\",winner)\n",
    "\n",
    "time.sleep(5)\n",
    "\n"
   ]
  }
 ],
 "metadata": {
  "kernelspec": {
   "display_name": "Python 3",
   "language": "python",
   "name": "python3"
  },
  "language_info": {
   "codemirror_mode": {
    "name": "ipython",
    "version": 3
   },
   "file_extension": ".py",
   "mimetype": "text/x-python",
   "name": "python",
   "nbconvert_exporter": "python",
   "pygments_lexer": "ipython3",
   "version": "3.8.5"
  }
 },
 "nbformat": 4,
 "nbformat_minor": 4
}
