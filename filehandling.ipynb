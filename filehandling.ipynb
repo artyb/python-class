{
 "cells": [
  {
   "cell_type": "code",
   "execution_count": null,
   "metadata": {},
   "outputs": [],
   "source": [
    "#b = open('<filename>' '<modes>')"
   ]
  },
  {
   "cell_type": "code",
   "execution_count": 3,
   "metadata": {},
   "outputs": [
    {
     "name": "stdout",
     "output_type": "stream",
     "text": [
      "file already exist\n"
     ]
    }
   ],
   "source": [
    "try:\n",
    "    b = open('class8am.txt','x')\n",
    "except:\n",
    "    print(\"file already exist\")\n",
    "    b.close()"
   ]
  },
  {
   "cell_type": "code",
   "execution_count": 5,
   "metadata": {},
   "outputs": [
    {
     "name": "stdout",
     "output_type": "stream",
     "text": [
      "1. hello wrold\n",
      "2.hello world\n",
      "3.hello world\n",
      "4.hello world\n",
      "5.hello wrold\n"
     ]
    }
   ],
   "source": [
    "b = open('class8am.txt', 'r')\n",
    "print(b.read())\n",
    "b.close()"
   ]
  },
  {
   "cell_type": "code",
   "execution_count": 9,
   "metadata": {},
   "outputs": [
    {
     "name": "stdout",
     "output_type": "stream",
     "text": [
      "<class 'str'>\n",
      "1.hello wo\n"
     ]
    }
   ],
   "source": [
    "b = open('class8am.txt','r')\n",
    "c = (b.read(10))\n",
    "print(type(c))\n",
    "print(c)\n",
    "b.close()"
   ]
  },
  {
   "cell_type": "code",
   "execution_count": null,
   "metadata": {},
   "outputs": [],
   "source": [
    "#to readline\n"
   ]
  },
  {
   "cell_type": "code",
   "execution_count": 15,
   "metadata": {},
   "outputs": [],
   "source": [
    "#to write\n",
    "\n",
    "b = open('class8am.txt','a')\n",
    "b.write('\\n 5.hello world \\n')\n",
    "b.close()"
   ]
  },
  {
   "cell_type": "code",
   "execution_count": 17,
   "metadata": {},
   "outputs": [
    {
     "name": "stdout",
     "output_type": "stream",
     "text": [
      "enter n = 2\n",
      "enter name = ram\n",
      "enter age = 23\n",
      "enter addressbharatpur\n",
      "enter name = shyam\n",
      "enter age = 24\n",
      "enter addresssharadpur\n"
     ]
    }
   ],
   "source": [
    "s = \" \"\n",
    "n = int(input(\"enter n = \"))\n",
    "for i in range(n):\n",
    "    name = input(\"enter name = \")\n",
    "    age = int(input(\"enter age = \"))\n",
    "    add = input(\"enter address\")\n",
    "    info = f\"\\n{name}{age}{add}\\n\"\n",
    "    s = s+info\n",
    "b = open('data.txt','a')\n",
    "b.write(s)\n",
    "b.close()"
   ]
  },
  {
   "cell_type": "code",
   "execution_count": 20,
   "metadata": {},
   "outputs": [
    {
     "name": "stdout",
     "output_type": "stream",
     "text": [
      "enter n = 2\n",
      "enter name = ram\n",
      "enter age = 23\n",
      "enter address= bharatpur\n",
      "enter name = shyam\n",
      "enter age = 23\n",
      "enter address= chitwan\n"
     ]
    }
   ],
   "source": [
    "#to open csv file\n",
    "\n",
    "s = \" \"\n",
    "b = open('data.csv','w')\n",
    "b.write(\"Name, Age, Address \\n\")\n",
    "n = int(input(\"enter n = \"))\n",
    "for i in range(n):\n",
    "    name = input(\"enter name = \")\n",
    "    age = int(input(\"enter age = \"))\n",
    "    add = input(\"enter address= \")\n",
    "    info = f\"{name},{age},{add}\\n\"\n",
    "    s = s+info\n",
    "b.write(s)\n",
    "b.close()"
   ]
  },
  {
   "cell_type": "code",
   "execution_count": 21,
   "metadata": {},
   "outputs": [
    {
     "name": "stdout",
     "output_type": "stream",
     "text": [
      "Name, Age, Address \n",
      " ram,23,bharatpur\n",
      "shyam,23,chitwan\n",
      "\n"
     ]
    }
   ],
   "source": [
    "a = open('data.csv','r')\n",
    "c = a.read()\n",
    "print(c)\n",
    "a.close()"
   ]
  },
  {
   "cell_type": "code",
   "execution_count": 24,
   "metadata": {},
   "outputs": [
    {
     "name": "stdout",
     "output_type": "stream",
     "text": [
      "['Name, Age, Address ', ' ram,23,bharatpur', 'shyam,23,chitwan', '']\n",
      "['Name, Age, Address ', ' ram,23,bharatpur', 'shyam,23,chitwan']\n"
     ]
    }
   ],
   "source": [
    "d = c.split('\\n')\n",
    "print(d)\n",
    "e = d[0:-1]\n",
    "print(e)"
   ]
  },
  {
   "cell_type": "code",
   "execution_count": 25,
   "metadata": {},
   "outputs": [
    {
     "name": "stdout",
     "output_type": "stream",
     "text": [
      "[['Name', ' Age', ' Address '], [' ram', '23', 'bharatpur'], ['shyam', '23', 'chitwan']]\n"
     ]
    }
   ],
   "source": [
    "data = []\n",
    "for i in e:\n",
    "    x = i.split(',')\n",
    "    data.append(x)\n",
    "print(data)"
   ]
  },
  {
   "cell_type": "code",
   "execution_count": 27,
   "metadata": {},
   "outputs": [
    {
     "name": "stdout",
     "output_type": "stream",
     "text": [
      "there is no such file\n"
     ]
    }
   ],
   "source": [
    "#to delete file\n",
    "import os\n",
    "try:\n",
    "    os.remove('data.csv')\n",
    "except:\n",
    "    print(\"there is no such file\")"
   ]
  },
  {
   "cell_type": "code",
   "execution_count": 54,
   "metadata": {},
   "outputs": [
    {
     "data": {
      "text/plain": [
       "'../desktop/my_data.txt'"
      ]
     },
     "execution_count": 54,
     "metadata": {},
     "output_type": "execute_result"
    }
   ],
   "source": [
    "import shutil as s\n",
    "src = 'data.txt'\n",
    "dest = '../desktop/my_data.txt'\n",
    "s.copy(src,dest)"
   ]
  }
 ],
 "metadata": {
  "kernelspec": {
   "display_name": "Python 3",
   "language": "python",
   "name": "python3"
  },
  "language_info": {
   "codemirror_mode": {
    "name": "ipython",
    "version": 3
   },
   "file_extension": ".py",
   "mimetype": "text/x-python",
   "name": "python",
   "nbconvert_exporter": "python",
   "pygments_lexer": "ipython3",
   "version": "3.8.5"
  }
 },
 "nbformat": 4,
 "nbformat_minor": 4
}
