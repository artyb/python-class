{
 "cells": [
  {
   "cell_type": "code",
   "execution_count": null,
   "metadata": {},
   "outputs": [],
   "source": [
    "#The concept of oop in python focuses on ceating reuseable code."
   ]
  },
  {
   "cell_type": "code",
   "execution_count": 1,
   "metadata": {},
   "outputs": [
    {
     "name": "stdout",
     "output_type": "stream",
     "text": [
      "hello world\n"
     ]
    }
   ],
   "source": [
    "#class name shoud satrt with capital letter\n",
    "class Python:\n",
    "    print(\"hello world\")\n",
    "    \n",
    "obj = Python()"
   ]
  },
  {
   "cell_type": "code",
   "execution_count": 5,
   "metadata": {},
   "outputs": [
    {
     "name": "stdout",
     "output_type": "stream",
     "text": [
      "hello world\n"
     ]
    }
   ],
   "source": [
    "#method\n",
    "class Python: #class\n",
    "    def hello(self): #method\n",
    "        print(\"hello world\")\n",
    "obj= Python() #objct\n",
    "obj.hello() #calling the method through object"
   ]
  },
  {
   "cell_type": "code",
   "execution_count": 7,
   "metadata": {},
   "outputs": [
    {
     "name": "stdout",
     "output_type": "stream",
     "text": [
      "area is  20\n"
     ]
    }
   ],
   "source": [
    "class Cal:\n",
    "    def area(self,l,b):\n",
    "        area = l*b\n",
    "        print(\"area is \",area)\n",
    "obj = Cal()\n",
    "obj.area(10,2)"
   ]
  },
  {
   "cell_type": "code",
   "execution_count": 8,
   "metadata": {},
   "outputs": [
    {
     "name": "stdout",
     "output_type": "stream",
     "text": [
      "area is  20\n",
      "volume is  60\n"
     ]
    }
   ],
   "source": [
    "class Cal:\n",
    "    def area(self,l,b):\n",
    "        area = l*b\n",
    "        print(\"area is \",area)\n",
    "    def volume(self,l,b,h):\n",
    "        volume = l*b*h\n",
    "        print(\"volume is \",volume)\n",
    "obj = Cal()\n",
    "obj.area(10,2)\n",
    "obj.volume(10,2,3)"
   ]
  },
  {
   "cell_type": "code",
   "execution_count": 15,
   "metadata": {},
   "outputs": [
    {
     "name": "stdout",
     "output_type": "stream",
     "text": [
      "area is  20\n",
      "volume is 60\n"
     ]
    }
   ],
   "source": [
    "#constructer\n",
    "class Cal:\n",
    "    def __init__(self,l,b,h):\n",
    "        self.l = l\n",
    "        self.b = b\n",
    "        self.h = h\n",
    "    def area(self):\n",
    "        area = self.l*self.b\n",
    "        print(\"area is \",area)\n",
    "    def volume(self):\n",
    "        volume = self.l*self.b*self.h\n",
    "        print(\"volume is\",volume)\n",
    "        \n",
    "obj = Cal(10,2,3)\n",
    "obj.area()\n",
    "obj.volume()\n",
    "\n",
    "        "
   ]
  },
  {
   "cell_type": "code",
   "execution_count": 16,
   "metadata": {},
   "outputs": [
    {
     "name": "stdout",
     "output_type": "stream",
     "text": [
      "area is  20\n",
      "volume is 60\n"
     ]
    }
   ],
   "source": [
    "class Cal:\n",
    "    def __init__(self,l,b,h):\n",
    "        self.l = l\n",
    "        self.b = b\n",
    "        self.h = h\n",
    "    def area(this):\n",
    "        area = this.l*this.b\n",
    "        print(\"area is \",area)\n",
    "    def volume(self):\n",
    "        volume = self.l*self.b*self.h\n",
    "        print(\"volume is\",volume)\n",
    "        \n",
    "obj = Cal(10,2,3)\n",
    "obj.area()\n",
    "obj.volume()\n"
   ]
  },
  {
   "cell_type": "code",
   "execution_count": 19,
   "metadata": {},
   "outputs": [
    {
     "name": "stdout",
     "output_type": "stream",
     "text": [
      "area is  20\n",
      "volume is 60\n"
     ]
    }
   ],
   "source": [
    "class Cal:\n",
    "    def __init__(self,l,b):\n",
    "        self.l = l\n",
    "        self.b = b\n",
    "    def area(this):\n",
    "        area = this.l*this.b\n",
    "        print(\"area is \",area)\n",
    "    def volume(self,h):\n",
    "        volume = self.l*self.b*h\n",
    "        print(\"volume is\",volume)\n",
    "        \n",
    "obj = Cal(10,2)\n",
    "obj.area()\n",
    "obj.volume(3)"
   ]
  },
  {
   "cell_type": "code",
   "execution_count": null,
   "metadata": {},
   "outputs": [],
   "source": []
  },
  {
   "cell_type": "code",
   "execution_count": 20,
   "metadata": {},
   "outputs": [
    {
     "name": "stdout",
     "output_type": "stream",
     "text": [
      "enter length = 10\n",
      "enter breadth = 2\n",
      "enter height = 3\n",
      "area is  20\n",
      "volume is 60\n"
     ]
    }
   ],
   "source": [
    "class Cal:\n",
    "    def __init__(self,l,b):\n",
    "        self.l = l\n",
    "        self.b = b\n",
    "    def area(this):\n",
    "        area = this.l*this.b\n",
    "        print(\"area is \",area)\n",
    "    def volume(self,h):\n",
    "        volume = self.l*self.b*h\n",
    "        print(\"volume is\",volume)\n",
    "l = int(input(\"enter length = \"))\n",
    "b = int(input(\"enter breadth = \"))\n",
    "h = int(input(\"enter height = \"))\n",
    "        \n",
    "obj = Cal(l,b)\n",
    "obj.area()\n",
    "obj.volume(h)"
   ]
  },
  {
   "cell_type": "code",
   "execution_count": 23,
   "metadata": {},
   "outputs": [
    {
     "name": "stdout",
     "output_type": "stream",
     "text": [
      "area is  20\n",
      "volume is 60\n",
      "volume is 60\n",
      "<class 'NoneType'>\n"
     ]
    }
   ],
   "source": [
    "class Cal:\n",
    "    def __init__(self,l,b):\n",
    "        self.l = l\n",
    "        self.b = b\n",
    "    def area(this):\n",
    "        area = this.l*this.b\n",
    "        return area\n",
    "    def volume(self,area,h):\n",
    "        volume = area*h\n",
    "        print(\"volume is\",volume)\n",
    "        \n",
    "obj = Cal(10,2)\n",
    "print(\"area is \",obj.area())\n",
    "obj.volume(obj.area(),3)\n",
    "print(type(obj.volume(obj.area(),3)))"
   ]
  },
  {
   "cell_type": "code",
   "execution_count": 25,
   "metadata": {},
   "outputs": [
    {
     "name": "stdout",
     "output_type": "stream",
     "text": [
      "20\n",
      "20\n",
      "<class '__main__.Cal'>\n"
     ]
    }
   ],
   "source": [
    "#str method returns object.it returns only string\n",
    "class Cal:\n",
    "    def __init__(self,l,b):\n",
    "        self.l = l\n",
    "        self.b = b\n",
    "    def __str__(self):\n",
    "        a = self.l*self.b\n",
    "        return f\"{a}\"\n",
    "obj = Cal(10,2)\n",
    "print(obj)\n",
    "print(obj.__str__())\n",
    "#obj 1 = str(obj)\n",
    "print(type(obj))"
   ]
  },
  {
   "cell_type": "code",
   "execution_count": 26,
   "metadata": {},
   "outputs": [
    {
     "name": "stdout",
     "output_type": "stream",
     "text": [
      "enter length = 20\n",
      "enter breadth = 4\n",
      "80\n",
      "80\n",
      "<class '__main__.Cal'>\n"
     ]
    }
   ],
   "source": [
    "#str method returns object.it returns only string\n",
    "class Cal:\n",
    "    def __init__(self,l,b):\n",
    "        self.l = l\n",
    "        self.b = b\n",
    "    def __str__(self):\n",
    "        a = self.l*self.b\n",
    "        return f\"{a}\"\n",
    "l = int(input(\"enter length = \"))\n",
    "b = int(input(\"enter breadth = \"))\n",
    "obj = Cal(l,b)\n",
    "print(obj)\n",
    "print(obj.__str__())\n",
    "#obj 1 = str(obj)\n",
    "print(type(obj))"
   ]
  },
  {
   "cell_type": "code",
   "execution_count": 1,
   "metadata": {},
   "outputs": [
    {
     "name": "stdout",
     "output_type": "stream",
     "text": [
      "enter length = 2\n",
      "enter breadth = 3\n",
      "6\n",
      "<class '__main__.Cal'>\n"
     ]
    }
   ],
   "source": [
    "#pepr method is used to return list,dictionary.\n",
    "class Cal:\n",
    "    def __init__(self,l,b):\n",
    "        self.l = l\n",
    "        self.b = b\n",
    "    def __repr__(self):\n",
    "        a = self.l*self.b\n",
    "        return f\"{a}\"\n",
    "l = int(input(\"enter length = \"))\n",
    "b = int(input(\"enter breadth = \"))\n",
    "obj = Cal(l,b)\n",
    "\n",
    "print(obj.__repr__())\n",
    "#obj 1 = str(obj)\n",
    "print(type(obj))"
   ]
  },
  {
   "cell_type": "code",
   "execution_count": 6,
   "metadata": {},
   "outputs": [
    {
     "name": "stdout",
     "output_type": "stream",
     "text": [
      "<class '__main__.point'>\n"
     ]
    }
   ],
   "source": [
    "#operator oerloading\n",
    "class point:\n",
    "    def __init__(self,x = 0 ,y =0):\n",
    "        self.x = x\n",
    "        self.y = y\n",
    "    def __str__(self):\n",
    "        return self.x,self.y\n",
    "p1 = point(2,3)\n",
    "p2 = point(-1,2)\n",
    "print(type(p1))"
   ]
  },
  {
   "cell_type": "code",
   "execution_count": 10,
   "metadata": {},
   "outputs": [
    {
     "name": "stdout",
     "output_type": "stream",
     "text": [
      "<class '__main__.point'>\n",
      "<class '__main__.point'>\n",
      "1,5\n"
     ]
    }
   ],
   "source": [
    "class point:\n",
    "    def __init__(self,x = 0 ,y =0):\n",
    "        self.x = x\n",
    "        self.y = y\n",
    "    def __str__(self):\n",
    "        return f\"{self.x},{self.y}\"\n",
    "    def __add__(self,other):\n",
    "        x = self.x+other.x\n",
    "        y = self.y+other.y\n",
    "        return point(x,y)\n",
    "p1 = point(2,3)\n",
    "p2 = point(-1,2)\n",
    "print(type(p1))\n",
    "print(type(p2))\n",
    "print(p1+p2)"
   ]
  },
  {
   "cell_type": "code",
   "execution_count": 15,
   "metadata": {},
   "outputs": [
    {
     "name": "stdout",
     "output_type": "stream",
     "text": [
      "this is init method 2 3 4\n",
      "this is init method -1 2 6\n",
      "this is add method\n",
      "this is init method 1 5 10\n",
      "this is str method\n",
      "1,5,10\n"
     ]
    }
   ],
   "source": [
    "class point:\n",
    "    def __init__(self,x = 0 ,y =0,z = 0):\n",
    "        self.x = x\n",
    "        self.y = y\n",
    "        self.z = z\n",
    "        print(\"this is init method\",self.x,self.y,self.z)\n",
    "    def __str__(self):\n",
    "        print(\"this is str method\")\n",
    "        return f\"{self.x},{self.y},{self.z}\"\n",
    "    def __add__(self,other):\n",
    "        x = self.x+other.x\n",
    "        y = self.y+other.y\n",
    "        z = self.z+other.z\n",
    "        print(\"this is add method\")\n",
    "        return point(x,y,z)\n",
    "p1 = point(2,3,4)\n",
    "p2 = point(-1,2,6)\n",
    "\n",
    "print(p1+p2)"
   ]
  },
  {
   "cell_type": "code",
   "execution_count": 17,
   "metadata": {},
   "outputs": [
    {
     "name": "stdout",
     "output_type": "stream",
     "text": [
      "this is init method 2000\n",
      "this is init method 3000\n",
      "this is init method 2500\n",
      "this is add method\n",
      "this is init method 5000\n",
      "this is add method\n",
      "this is init method 7500\n",
      "this is str method\n",
      "7500\n"
     ]
    }
   ],
   "source": [
    "class point:\n",
    "    def __init__(self,x = 0):\n",
    "        self.x = x\n",
    "        print(\"this is init method\",self.x)\n",
    "    def __str__(self):\n",
    "        print(\"this is str method\")\n",
    "        return f\"{self.x}\"\n",
    "    def __add__(self,other):\n",
    "        x = self.x+other.x\n",
    "        print(\"this is add method\")\n",
    "        return point(x)\n",
    "p1 = point(2000)\n",
    "p2 = point(3000)\n",
    "p3 = point(2500)\n",
    "\n",
    "print(p1+p2+p3)\n"
   ]
  },
  {
   "cell_type": "code",
   "execution_count": 20,
   "metadata": {},
   "outputs": [
    {
     "name": "stdout",
     "output_type": "stream",
     "text": [
      "parrot cannot swim\n",
      "pengine cannot fly\n"
     ]
    }
   ],
   "source": [
    "#polymorphism\n",
    "class parrot:\n",
    "    def fly(self):\n",
    "        print(\"parrot can fly\")\n",
    "    def swim(self):\n",
    "        print(\"parrot cannot swim\")\n",
    "class penguine:\n",
    "    def fly(self):\n",
    "        print(\"pengine cannot fly\")\n",
    "    def swim(self):\n",
    "        print(\"penguine can swim\")\n",
    "\n",
    "\n",
    "blu = parrot()\n",
    "peggey = penguine()\n",
    "blu.swim()\n",
    "peggey.fly()"
   ]
  },
  {
   "cell_type": "markdown",
   "metadata": {},
   "source": [
    "# inheritance\n",
    "#inheritance is the capability of one class to derive or inherit the properties from some another class.\n",
    "#it provides reusability of code\n",
    "#it has:\n",
    "#parent class\n",
    "#child class\n"
   ]
  },
  {
   "cell_type": "code",
   "execution_count": 24,
   "metadata": {},
   "outputs": [
    {
     "name": "stdout",
     "output_type": "stream",
     "text": [
      "this is class A\n",
      "this is class B\n"
     ]
    }
   ],
   "source": [
    "class A:\n",
    "    print(\"this is class A\")\n",
    "\n",
    "class B(A):\n",
    "    print(\"this is class B\")\n",
    "#a = A()\n",
    "b = B()"
   ]
  },
  {
   "cell_type": "code",
   "execution_count": 33,
   "metadata": {},
   "outputs": [
    {
     "name": "stdout",
     "output_type": "stream",
     "text": [
      "enter length = 20\n",
      "enter breadth = 3\n",
      "60\n",
      "360\n"
     ]
    }
   ],
   "source": [
    "class Cal:\n",
    "    def __init__(self):\n",
    "        self.l = int(input(\"enter length = \"))\n",
    "        self.b = int(input(\"enter breadth = \"))\n",
    "    def area(self):\n",
    "        a = self.l*self.b\n",
    "        print(a)\n",
    "    \n",
    "class Area(Cal):\n",
    "    def volume(self):\n",
    "        h = 6\n",
    "        v = self.l*self.b*h\n",
    "        print(v)\n",
    "    \n",
    "x = Area()\n",
    "x.area()\n",
    "x.volume()"
   ]
  },
  {
   "cell_type": "code",
   "execution_count": 6,
   "metadata": {},
   "outputs": [
    {
     "name": "stdout",
     "output_type": "stream",
     "text": [
      "feature1 working\n",
      "feature2 working\n",
      "feature3 working\n"
     ]
    }
   ],
   "source": [
    "class A:\n",
    "    def feature1(self):\n",
    "        print(\"feature1 working\")\n",
    "    def feature2(self):\n",
    "        print(\"feature2 working\")\n",
    "class B(A):\n",
    "    def feature3(self):\n",
    "        print(\"feature3 working\")\n",
    "    def feature4(self):\n",
    "        print(\"feature3 working\")\n",
    "    \n",
    "\n",
    "b = B()\n",
    "b.feature1()\n",
    "b.feature2()\n",
    "b.feature3()"
   ]
  },
  {
   "cell_type": "code",
   "execution_count": null,
   "metadata": {},
   "outputs": [],
   "source": [
    "#duck typing\n",
    "x = 5\n",
    "x ='ram'\n"
   ]
  },
  {
   "cell_type": "markdown",
   "metadata": {},
   "source": [
    "# python multilevel inheritance\n",
    "\n"
   ]
  },
  {
   "cell_type": "code",
   "execution_count": 9,
   "metadata": {},
   "outputs": [
    {
     "name": "stdout",
     "output_type": "stream",
     "text": [
      "this is class c\n",
      "this is class b\n",
      "this is a class\n"
     ]
    }
   ],
   "source": [
    "class A:\n",
    "    def a(self):\n",
    "        print(\"this is a class\")\n",
    "class B(A):\n",
    "    def b(self):\n",
    "        print(\"this is class b\")\n",
    "class C(B):\n",
    "    def c(self):\n",
    "        print(\"this is class c\")\n",
    "obj = C()\n",
    "obj.c()\n",
    "obj.b()\n",
    "obj.a()"
   ]
  },
  {
   "cell_type": "code",
   "execution_count": 21,
   "metadata": {},
   "outputs": [
    {
     "name": "stdout",
     "output_type": "stream",
     "text": [
      "enter roll no2\n",
      "enter salary200\n",
      "enter name = ram\n",
      "enter age = 22\n",
      "enter address = bharatpur\n",
      "hello ram this is hr section\n",
      "hello ram your age is 22 and your adrress is bharatpur yiur roll no is2 and salary is200\n"
     ]
    }
   ],
   "source": [
    "class Data:\n",
    "    def __init__(self):\n",
    "        self.name = input(\"enter name = \")\n",
    "        self.age  = int(input(\"enter age = \"))\n",
    "        self.add = input(\"enter address = \")\n",
    "        \n",
    "        \n",
    "class Hr(Data):\n",
    "    def __init__(self):\n",
    "        self.salary = int(input(\"enter salary\"))\n",
    "        Data.__init__(self)\n",
    "    def hr(self):\n",
    "        print(f\"hello {self.name} this is hr section\")\n",
    "class Office(Hr):\n",
    "    def __init__(self):\n",
    "        self.roll = int(input('enter roll no'))\n",
    "        Hr.__init__(self)\n",
    "            \n",
    "    def office(self):\n",
    "        print(f\"hello {self.name} your age is {self.age} and your adrress is {self.add} yiur roll no is{self.roll} and salary is{self.salary}\")\n",
    "    \n",
    "obj = Office()\n",
    "obj.hr()\n",
    "obj.office()\n",
    "    "
   ]
  },
  {
   "cell_type": "code",
   "execution_count": 26,
   "metadata": {},
   "outputs": [
    {
     "name": "stdout",
     "output_type": "stream",
     "text": [
      "enter name = ram\n",
      "enter age = 22\n",
      "enter address = bharatpur\n",
      "enter salary2000\n",
      "hello ram your age is 22 and your adrress is bharatpur and salary isc2000\n"
     ]
    }
   ],
   "source": [
    "class Data:\n",
    "    def __init__(self):\n",
    "        self.name = input(\"enter name = \")\n",
    "        self.age  = int(input(\"enter age = \"))\n",
    "        self.add = input(\"enter address = \")\n",
    "        \n",
    "        \n",
    "class Hr():\n",
    "    def __init__(self):\n",
    "        self.salary = int(input(\"enter salary\"))\n",
    "    def hr(self):\n",
    "        print(f\"hello {self.name} this is hr section\")\n",
    "class Office(Data,Hr):\n",
    "    def __init__(self):\n",
    "        Data.__init__(self)\n",
    "        Hr.__init__(self)\n",
    "    def office(self):\n",
    "        print(f\"hello {self.name} your age is {self.age} and your adrress is {self.add} and salary isc{self.salary}\")\n",
    "    \n",
    "obj = Office()\n",
    "obj.office()\n",
    "    "
   ]
  },
  {
   "cell_type": "code",
   "execution_count": 33,
   "metadata": {},
   "outputs": [
    {
     "name": "stdout",
     "output_type": "stream",
     "text": [
      "hello ram your age is 25 and id 2 \n"
     ]
    }
   ],
   "source": [
    "class Person:\n",
    "    def __init__(self,personName,personAge):\n",
    "        self.name = personName\n",
    "        self.age = personAge\n",
    "class Student:\n",
    "    def __init__(self,studentid):\n",
    "        self.id = studentid\n",
    "class Resident:\n",
    "    def __init__(self,name,age,id):\n",
    "        Person.__init__(self,name,age)\n",
    "        Student.__init__(self,id)\n",
    "    def info(self):\n",
    "        print(f\"hello {self.name} your age is {self.age} and id {self.id}\")\n",
    "resident1 = Resident('ram',25,'2')\n",
    "resident1.info()"
   ]
  },
  {
   "cell_type": "code",
   "execution_count": 42,
   "metadata": {},
   "outputs": [
    {
     "name": "stdout",
     "output_type": "stream",
     "text": [
      "enter id = 2\n",
      "hello ram your age is 25 and id 2\n"
     ]
    }
   ],
   "source": [
    "#super is used to inherit method\n",
    "class Person:\n",
    "    def __init__(self,personName,personAge):\n",
    "        self.name = personName\n",
    "        self.age = personAge\n",
    "class Student:\n",
    "    def ids(self):\n",
    "        id = int(input(\"enter id = \"))\n",
    "        return id\n",
    "       \n",
    "class Resident(Person,Student):\n",
    "    def __init__(self,name,age):\n",
    "        Person.__init__(self,name,age)\n",
    "    def info(self):\n",
    "        print(f\"hello {self.name} your age is {self.age} and id {super().ids()}\")\n",
    "resident1 = Resident('ram',25)\n",
    "resident1.info()"
   ]
  },
  {
   "cell_type": "code",
   "execution_count": 4,
   "metadata": {},
   "outputs": [
    {
     "name": "stdout",
     "output_type": "stream",
     "text": [
      "student detail is\n",
      "roll no is  23\n",
      "name  1\n",
      "age is Ram\n",
      "percentage is  90\n"
     ]
    }
   ],
   "source": [
    "class Person:\n",
    "    def __init__(self,name,age):\n",
    "        self.name = name\n",
    "        self.age = age\n",
    "    def display(self):\n",
    "        print(\"name \",self.name )\n",
    "        print(\"age is\",self.age)\n",
    "class Student:\n",
    "    def __init__(self,name,age,roll,percentage):\n",
    "        self.roll = roll\n",
    "        self.percentage = percentage\n",
    "        Person.__init__(self,name,age)\n",
    "    def display(self):\n",
    "        print(\"roll no is \",self.roll)\n",
    "        Person.display(self)\n",
    "        print(\"percentage is \",self.percentage)\n",
    "       \n",
    "s1 = Student('1','Ram',23,90)\n",
    "print(\"student detail is\")\n",
    "s1.display()\n",
    "        \n",
    "    \n",
    "    "
   ]
  },
  {
   "cell_type": "code",
   "execution_count": 6,
   "metadata": {},
   "outputs": [
    {
     "name": "stdout",
     "output_type": "stream",
     "text": [
      "Ram\n",
      "22\n",
      "bharatpur\n"
     ]
    }
   ],
   "source": [
    "#public attribute\n",
    "class Info:\n",
    "    def __init__(self,name ,age ,address):\n",
    "        self.name = name\n",
    "        self.age = age\n",
    "        self.address = address\n",
    "    \n",
    "obj = Info('Ram',22,'bharatpur')\n",
    "print(obj.name)\n",
    "print(obj.age)\n",
    "print(obj.address)\n",
    "\n",
    "\n",
    "    "
   ]
  },
  {
   "cell_type": "code",
   "execution_count": null,
   "metadata": {},
   "outputs": [],
   "source": [
    "#protected atribute are defined using underscore sign(_)\n"
   ]
  },
  {
   "cell_type": "code",
   "execution_count": 7,
   "metadata": {},
   "outputs": [
    {
     "name": "stdout",
     "output_type": "stream",
     "text": [
      "Ram\n",
      "22\n",
      "bharatpur\n"
     ]
    }
   ],
   "source": [
    "#protected attribute\n",
    "class Info:\n",
    "    def __init__(self,name ,age ,address):\n",
    "        self._name = name\n",
    "        self._age = age\n",
    "        self._address = address\n",
    "    \n",
    "obj = Info('Ram',22,'bharatpur')\n",
    "print(obj._name)\n",
    "print(obj._age)\n",
    "print(obj._address)\n",
    "\n",
    "\n",
    "    \n"
   ]
  },
  {
   "cell_type": "code",
   "execution_count": 9,
   "metadata": {},
   "outputs": [
    {
     "name": "stdout",
     "output_type": "stream",
     "text": [
      "Ram\n",
      "22\n",
      "bharatpur\n"
     ]
    }
   ],
   "source": [
    "#private attribute\n",
    "class Info:\n",
    "    def __init__(self,name ,age ,address):\n",
    "        self.__name = name\n",
    "        self.__age = age\n",
    "        self.__address = address\n",
    "    \n",
    "obj = Info('Ram',22,'bharatpur')\n",
    "print(obj._Info__name)\n",
    "print(obj._Info__age)\n",
    "print(obj._Info__address)\n",
    "\n",
    "\n",
    "    "
   ]
  },
  {
   "cell_type": "code",
   "execution_count": 12,
   "metadata": {},
   "outputs": [
    {
     "name": "stdout",
     "output_type": "stream",
     "text": [
      "enter name = sss\n",
      "enter age = 22\n",
      "enter address = dkds\n",
      "enter salary100\n",
      "hello sss your age is 22 and your adrress is dkds and salary isc100\n"
     ]
    }
   ],
   "source": [
    "class Data:\n",
    "    def __init__(self):\n",
    "        self.name = input(\"enter name = \")#public\n",
    "        self._age  = int(input(\"enter age = \"))#protected\n",
    "        self.__add = input(\"enter address = \")#private\n",
    "        \n",
    "        \n",
    "class Hr():\n",
    "    def __init__(self):\n",
    "        self.salary = int(input(\"enter salary\"))\n",
    "    def hr(self):\n",
    "        print(f\"hello {self.name} this is hr section\")\n",
    "class Office(Data,Hr):\n",
    "    def __init__(self):\n",
    "        Data.__init__(self)\n",
    "        Hr.__init__(self)\n",
    "    def office(self):\n",
    "        print(f\"hello {self.name} your age is {self._age} and your adrress is {self._Data__add} and salary isc{self.salary}\")\n",
    "    \n",
    "obj = Office()\n",
    "obj.office()\n",
    "    "
   ]
  },
  {
   "cell_type": "code",
   "execution_count": 16,
   "metadata": {},
   "outputs": [
    {
     "name": "stdout",
     "output_type": "stream",
     "text": [
      "enter name = ram\n",
      "enter age = 22\n",
      "enter address = sksk\n",
      "enter salary2000\n",
      "hello ram your age is 22 and your adrress is sksk and salary isc2000\n"
     ]
    }
   ],
   "source": [
    "class Data:\n",
    "    def __init__(self):\n",
    "        self.name = input(\"enter name = \")\n",
    "        self._age  = int(input(\"enter age = \"))\n",
    "        self.__add = input(\"enter address = \")\n",
    "    def add(self):\n",
    "        return self.__add\n",
    "        \n",
    "class Hr():\n",
    "    def __init__(self):\n",
    "        self.salary = int(input(\"enter salary\"))\n",
    "    def hr(self):\n",
    "        print(f\"hello {self.name} this is hr section\")\n",
    "class Office(Data,Hr):\n",
    "    def __init__(self):\n",
    "        Data.__init__(self)\n",
    "        Hr.__init__(self)\n",
    "    def office(self):\n",
    "        print(f\"hello {self.name} your age is {self._age} and your adrress is {super().add()} and salary isc{self.salary}\")\n",
    "    \n",
    "obj = Office()\n",
    "obj.office()\n",
    "    "
   ]
  },
  {
   "cell_type": "code",
   "execution_count": 18,
   "metadata": {},
   "outputs": [
    {
     "data": {
      "text/plain": [
       "'hello world'"
      ]
     },
     "execution_count": 18,
     "metadata": {},
     "output_type": "execute_result"
    }
   ],
   "source": [
    "#decorator\n",
    "def strings(function):\n",
    "    def wrapper():\n",
    "        fun = function()\n",
    "        x = fun.lower()\n",
    "        return x\n",
    "    return wrapper\n",
    "@strings\n",
    "def info():\n",
    "    return 'Hello World'\n",
    "info()\n",
    "        "
   ]
  },
  {
   "cell_type": "code",
   "execution_count": 19,
   "metadata": {},
   "outputs": [
    {
     "data": {
      "text/plain": [
       "['hello', 'world']"
      ]
     },
     "execution_count": 19,
     "metadata": {},
     "output_type": "execute_result"
    }
   ],
   "source": [
    "def strings(function):\n",
    "    def wrapper():\n",
    "        fun = function()\n",
    "        x = fun.lower()\n",
    "        return x\n",
    "    return wrapper\n",
    "def split_string(function):\n",
    "    def wrappe():\n",
    "        func = function()\n",
    "        splitted_string = func.split()\n",
    "        return splitted_string\n",
    "    return wrappe\n",
    "@split_string\n",
    "@strings\n",
    "def info():\n",
    "    return 'Hello World'\n",
    "info()\n",
    "      "
   ]
  },
  {
   "cell_type": "code",
   "execution_count": null,
   "metadata": {},
   "outputs": [],
   "source": []
  }
 ],
 "metadata": {
  "kernelspec": {
   "display_name": "Python 3",
   "language": "python",
   "name": "python3"
  },
  "language_info": {
   "codemirror_mode": {
    "name": "ipython",
    "version": 3
   },
   "file_extension": ".py",
   "mimetype": "text/x-python",
   "name": "python",
   "nbconvert_exporter": "python",
   "pygments_lexer": "ipython3",
   "version": "3.8.5"
  }
 },
 "nbformat": 4,
 "nbformat_minor": 4
}
