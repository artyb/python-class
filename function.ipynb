{
 "cells": [
  {
   "cell_type": "code",
   "execution_count": null,
   "metadata": {},
   "outputs": [],
   "source": [
    "#function\n",
    "#<function_name>():\n",
    "#<operation>\n",
    "#<function_name>()"
   ]
  },
  {
   "cell_type": "code",
   "execution_count": null,
   "metadata": {},
   "outputs": [],
   "source": [
    "#print(),type(),str(),list(),tuple(),dict()"
   ]
  },
  {
   "cell_type": "code",
   "execution_count": 1,
   "metadata": {},
   "outputs": [
    {
     "name": "stdout",
     "output_type": "stream",
     "text": [
      "hello world\n"
     ]
    }
   ],
   "source": [
    "def hello():\n",
    "    print(\"hello world\")\n",
    "hello()"
   ]
  },
  {
   "cell_type": "code",
   "execution_count": 9,
   "metadata": {},
   "outputs": [
    {
     "name": "stdout",
     "output_type": "stream",
     "text": [
      "enter length = 10\n",
      "enter breadth = 29\n",
      "enter height = 28\n",
      "8120\n"
     ]
    }
   ],
   "source": [
    "def cal():\n",
    "    l = int(input(\"enter length = \")) #local variable\n",
    "    b = int(input(\"enter breadth = \"))\n",
    "    h = int(input(\"enter height = \"))\n",
    "    v = l*b*h\n",
    "    print(v)\n",
    "cal()"
   ]
  },
  {
   "cell_type": "code",
   "execution_count": 13,
   "metadata": {},
   "outputs": [
    {
     "name": "stdout",
     "output_type": "stream",
     "text": [
      "enter length = 2\n",
      "enter breadth = 3\n",
      "enter height = 4\n",
      "24\n",
      "area is  6\n"
     ]
    }
   ],
   "source": [
    "l = int(input(\"enter length = \")) #global variable\n",
    "b = int(input(\"enter breadth = \"))\n",
    "h = int(input(\"enter height = \"))\n",
    "def cal():\n",
    "    v = l*b*h\n",
    "    print(v)\n",
    "def area():\n",
    "    area = l*b\n",
    "    print(\"area is \", area)\n",
    "    \n",
    "cal()\n",
    "area()\n"
   ]
  },
  {
   "cell_type": "code",
   "execution_count": 15,
   "metadata": {},
   "outputs": [
    {
     "name": "stdout",
     "output_type": "stream",
     "text": [
      "enter n = 2\n",
      "enter p = 100\n",
      "enetr t = 2\n",
      "enter r = 300\n",
      "simple interest is =  600.0\n",
      "enter p = 200\n",
      "enetr t = 3\n",
      "enter r = 400\n",
      "simple interest is =  2400.0\n"
     ]
    }
   ],
   "source": [
    "#function without argument and no return type\n",
    "def cal():\n",
    "    p = float(input(\"enter p = \"))\n",
    "    t = float(input(\"enetr t = \"))\n",
    "    r = float(input(\"enter r = \"))\n",
    "    i = p*t*r/100\n",
    "    print(\"simple interest is = \",i)\n",
    "n = int(input(\"enter n = \"))\n",
    "for i in range(n):\n",
    "    cal()"
   ]
  },
  {
   "cell_type": "code",
   "execution_count": null,
   "metadata": {},
   "outputs": [],
   "source": [
    "#function without argument and no return type\n",
    "#function with argument and return type\n",
    "#function without argument and return type\n",
    "#funtion with argument and no return type"
   ]
  },
  {
   "cell_type": "code",
   "execution_count": 17,
   "metadata": {},
   "outputs": [
    {
     "name": "stdout",
     "output_type": "stream",
     "text": [
      "hello world\n"
     ]
    }
   ],
   "source": [
    "#function with argument and no return type\n",
    "def hello(x):\n",
    "    print(x)\n",
    "hello(\"hello world\")"
   ]
  },
  {
   "cell_type": "code",
   "execution_count": 21,
   "metadata": {},
   "outputs": [
    {
     "name": "stdout",
     "output_type": "stream",
     "text": [
      "20\n"
     ]
    }
   ],
   "source": [
    "def area(l,b):\n",
    "    a = l*b\n",
    "    print(a)\n",
    "area(10,2)"
   ]
  },
  {
   "cell_type": "code",
   "execution_count": 24,
   "metadata": {},
   "outputs": [
    {
     "name": "stdout",
     "output_type": "stream",
     "text": [
      "enter length = 2\n",
      "enetr breadth = 10\n",
      "20\n"
     ]
    }
   ],
   "source": [
    "def area(x,y):\n",
    "    a = x*y\n",
    "    print(a)\n",
    "l = int(input(\"enter length = \"))\n",
    "b = int(input(\"enter breadth = \"))\n",
    "area(l,b)\n"
   ]
  },
  {
   "cell_type": "code",
   "execution_count": 25,
   "metadata": {},
   "outputs": [
    {
     "name": "stdout",
     "output_type": "stream",
     "text": [
      "c++\n",
      "java\n",
      "php\n",
      "python\n"
     ]
    }
   ],
   "source": [
    "#defalut value problem\n",
    "def language(lan = \"python\"):\n",
    "    print(lan)\n",
    "language(\"c++\")\n",
    "language(\"java\")\n",
    "language(\"php\")\n",
    "language()\n"
   ]
  },
  {
   "cell_type": "code",
   "execution_count": null,
   "metadata": {},
   "outputs": [],
   "source": [
    "def cal(x,y,z):\n",
    "    if z == \"+\":\n",
    "        print(x+y)\n",
    "    elif z == \"-\":\n",
    "         print(x-y)\n",
    "    elif z ==\"*\":\n",
    "         print(x*y)\n",
    "    elif z == \"/\":\n",
    "         print(x/y)\n",
    "    else:\n",
    "        print(\"invalid operator\")\n",
    "\n",
    "n = int(input(\"enetr n = \"))    \n",
    "for i in range(n):\n",
    "    a = int(input(\"enter a = \"))\n",
    "    b = int(input(\"enter b = \"))\n",
    "    o = input(\"enter operator = \")\n",
    "    cal(a,b,o)"
   ]
  },
  {
   "cell_type": "code",
   "execution_count": 2,
   "metadata": {},
   "outputs": [
    {
     "name": "stdout",
     "output_type": "stream",
     "text": [
      "enetr n = 1\n",
      "enter a = 2\n",
      "enter b = 3\n",
      "enter operator = +\n",
      "5\n"
     ]
    }
   ],
   "source": [
    "def add(x,y):\n",
    "    print(x+y)\n",
    "def cal(x,y,z):\n",
    "    if z == \"+\":\n",
    "        add(x,y)\n",
    "    elif z == \"-\":\n",
    "         print(x-y)\n",
    "    elif z ==\"*\":\n",
    "         print(x*y)\n",
    "    elif z == \"/\":\n",
    "         print(x/y)\n",
    "    else:\n",
    "        print(\"invalid operator\")\n",
    "\n",
    "n = int(input(\"enetr n = \"))    \n",
    "for i in range(n):\n",
    "    a = int(input(\"enter a = \"))\n",
    "    b = int(input(\"enter b = \"))\n",
    "    o = input(\"enter operator = \")\n",
    "    cal(a,b,o)"
   ]
  },
  {
   "cell_type": "code",
   "execution_count": 10,
   "metadata": {},
   "outputs": [
    {
     "name": "stdout",
     "output_type": "stream",
     "text": [
      "hi arati Adhikari\n",
      "welcome aborad\n"
     ]
    }
   ],
   "source": [
    "def greet(firstname,lastname):\n",
    "    print(f\"hi {firstname} {lastname}\")\n",
    "    print(\"welcome aborad\")\n",
    "greet(\"arati\",\"Adhikari\")"
   ]
  },
  {
   "cell_type": "code",
   "execution_count": 21,
   "metadata": {},
   "outputs": [
    {
     "data": {
      "text/plain": [
       "'hi arati .how are you '"
      ]
     },
     "execution_count": 21,
     "metadata": {},
     "output_type": "execute_result"
    }
   ],
   "source": [
    "def greet(name):\n",
    "    return(f\"hi {name} .how are you \")\n",
    "greet(\"arati\")"
   ]
  },
  {
   "cell_type": "code",
   "execution_count": 15,
   "metadata": {},
   "outputs": [
    {
     "name": "stdout",
     "output_type": "stream",
     "text": [
      "13\n"
     ]
    }
   ],
   "source": [
    "def increment(given,by=2):\n",
    "    return given+by\n",
    "\n",
    "result = increment(4,9)\n",
    "print(result)"
   ]
  },
  {
   "cell_type": "code",
   "execution_count": 20,
   "metadata": {},
   "outputs": [
    {
     "name": "stdout",
     "output_type": "stream",
     "text": [
      "120\n"
     ]
    }
   ],
   "source": [
    "def multiply(*numbers):\n",
    "    total = 1\n",
    "    for i in numbers:\n",
    "        total = total*i\n",
    "    return total\n",
    "x = multiply(2,3,4,5)\n",
    "print(x)"
   ]
  },
  {
   "cell_type": "code",
   "execution_count": 22,
   "metadata": {},
   "outputs": [
    {
     "name": "stdout",
     "output_type": "stream",
     "text": [
      "{'id': 1, 'name': 'arati', 'age': 25}\n"
     ]
    }
   ],
   "source": [
    "def save_user(**user):\n",
    "    print(user)\n",
    "    \n",
    "save_user(id = 1 , name = \"arati\", age =25)"
   ]
  },
  {
   "cell_type": "code",
   "execution_count": 32,
   "metadata": {},
   "outputs": [
    {
     "name": "stdout",
     "output_type": "stream",
     "text": [
      " hi .arati\n",
      "sksk\n"
     ]
    }
   ],
   "source": [
    "message = \"a\"\n",
    "def greet(name):\n",
    "    global message\n",
    "    message = \"sksk\"\n",
    "    print(f\" hi .{name}\")\n",
    "greet(\"arati\")\n",
    "print(message)"
   ]
  },
  {
   "cell_type": "code",
   "execution_count": 2,
   "metadata": {},
   "outputs": [
    {
     "name": "stdout",
     "output_type": "stream",
     "text": [
      "hello world\n"
     ]
    }
   ],
   "source": [
    "#function without argument and return type\n",
    "def hello():\n",
    "    return \"hello world\"\n",
    "print(hello())"
   ]
  },
  {
   "cell_type": "code",
   "execution_count": 4,
   "metadata": {},
   "outputs": [
    {
     "name": "stdout",
     "output_type": "stream",
     "text": [
      "600\n"
     ]
    }
   ],
   "source": [
    "def cal():\n",
    "    l=20\n",
    "    b=30\n",
    "    a = l*b\n",
    "    return a\n",
    "print(cal())"
   ]
  },
  {
   "cell_type": "code",
   "execution_count": null,
   "metadata": {},
   "outputs": [],
   "source": [
    "def cal():\n",
    "    l = int(input(\"enter length = \"))\n",
    "    b = int(input(\"enter breadth = \"))\n",
    "    a = l*b\n",
    "    return a\n",
    "area = cal()\n",
    "print(\"area is \", area)\n",
    "h = int(input(\"enter height = \"))\n",
    "v = area*h\n",
    "print(\"volume is \", v)"
   ]
  },
  {
   "cell_type": "code",
   "execution_count": 17,
   "metadata": {},
   "outputs": [
    {
     "name": "stdout",
     "output_type": "stream",
     "text": [
      "enter length = 20\n",
      "enter breadth = 30\n",
      "enter height = 3\n",
      "the area is  600\n",
      "volume is 1800\n"
     ]
    }
   ],
   "source": [
    " #function without argument byt return type\n",
    "    def cal():\n",
    "    l = int(input(\"enter length = \"))\n",
    "    b = int(input(\"enter breadth = \"))\n",
    "    h = int(input(\"enter height = \"))\n",
    "    a = l*b\n",
    "    v = a*h\n",
    "    return a,v\n",
    "area,volume = cal()\n",
    "print(\"the area is \",area)\n",
    "print(\"volume is\",volume)"
   ]
  },
  {
   "cell_type": "code",
   "execution_count": 20,
   "metadata": {},
   "outputs": [
    {
     "name": "stdout",
     "output_type": "stream",
     "text": [
      "enter length = 2\n",
      "enter breadth = 3\n",
      "enter height = 4\n",
      "the area is  6\n",
      "volume is 24\n"
     ]
    }
   ],
   "source": [
    "def cal():\n",
    "    l = int(input(\"enter length = \"))\n",
    "    b = int(input(\"enter breadth = \"))\n",
    "    h = int(input(\"enter height = \"))\n",
    "    a = l*b\n",
    "    v = a*h\n",
    "    d = {\"area\":a,\"volume\":v}\n",
    "    return d\n",
    "value = cal()\n",
    "area = value['area']\n",
    "volume = value['volume']\n",
    "print(\"the area is \",area)\n",
    "print(\"volume is\",volume)\n"
   ]
  },
  {
   "cell_type": "code",
   "execution_count": 23,
   "metadata": {},
   "outputs": [
    {
     "name": "stdout",
     "output_type": "stream",
     "text": [
      "helloworld\n"
     ]
    }
   ],
   "source": [
    "#function with argument and return type\n",
    "def hello(x,y):\n",
    "    z = x+y\n",
    "    return z\n",
    "print(hello(\"hello\", \"world\"))\n",
    "    \n"
   ]
  },
  {
   "cell_type": "code",
   "execution_count": 25,
   "metadata": {},
   "outputs": [
    {
     "name": "stdout",
     "output_type": "stream",
     "text": [
      "enter length = 2\n",
      "enter breadth = 3\n",
      "enetr height = 4\n",
      "area =  6\n",
      "volume =  24\n"
     ]
    }
   ],
   "source": [
    "def cal(l,b,h):\n",
    "    a = l*b\n",
    "    v = l*b*h\n",
    "    return a,v\n",
    "l = int(input(\"enter length = \"))\n",
    "b = int(input(\"enter breadth = \"))\n",
    "h = int(input(\"enetr height = \"))\n",
    "area, volume = cal(l,b,h)\n",
    "#z = cal(l,b,h)\n",
    "print(\"area = \",area)#print(\"area = \",z[0])\n",
    "print(\"volume = \",volume)##print(\"volume = \",z[1])"
   ]
  },
  {
   "cell_type": "code",
   "execution_count": 26,
   "metadata": {},
   "outputs": [
    {
     "name": "stdout",
     "output_type": "stream",
     "text": [
      "enter length = 2\n",
      "enter breadth = 3\n",
      "enetr height = 4\n",
      "area =  6\n",
      "volume =  24\n"
     ]
    }
   ],
   "source": [
    "def area(l,b):\n",
    "    a = l*b\n",
    "    return a\n",
    "\n",
    "def volume(l,b,h):\n",
    "    v = area(l,b)*h\n",
    "    return v\n",
    "l = int(input(\"enter length = \"))\n",
    "b = int(input(\"enter breadth = \"))\n",
    "h = int(input(\"enetr height = \"))\n",
    "ar = area(l,b)\n",
    "vo = volume(l,b,h)\n",
    "print(\"area = \",ar)\n",
    "print(\"volume = \",vo)"
   ]
  },
  {
   "cell_type": "code",
   "execution_count": 47,
   "metadata": {},
   "outputs": [
    {
     "name": "stdout",
     "output_type": "stream",
     "text": [
      "enetr n = 1\n",
      "enter a = 2\n",
      "enter b = 3\n",
      "enter operator = +\n",
      "2 + 3 = 5\n"
     ]
    }
   ],
   "source": [
    "def add(x,y):\n",
    "    return x+y\n",
    "def sub(x,y):\n",
    "    return x-y\n",
    "def mul(x,y):\n",
    "    return x*y\n",
    "def div(x,y):\n",
    "    return(x/y)\n",
    "def cal(x,y,z):\n",
    "    if z == \"+\":\n",
    "        value = add(x,y)\n",
    "        #print(\"{} + {} = {}\".format(x,y,value))\n",
    "        print(f\"{x} + {y} = {value}\")\n",
    "    elif z == \"-\":\n",
    "         print(sub(x,y))\n",
    "    elif z ==\"*\":\n",
    "         print(mul(x,y))\n",
    "    elif z == \"/\":\n",
    "         print(div(x,y))\n",
    "    else:\n",
    "        print(\"invalid operator\")\n",
    "\n",
    "n = int(input(\"enetr n = \"))    \n",
    "for i in range(n):\n",
    "    a = int(input(\"enter a = \"))\n",
    "    b = int(input(\"enter b = \"))\n",
    "    o = input(\"enter operator = \")\n",
    "    cal(a,b,o)\n"
   ]
  },
  {
   "cell_type": "markdown",
   "metadata": {},
   "source": [
    "### "
   ]
  },
  {
   "cell_type": "code",
   "execution_count": 39,
   "metadata": {},
   "outputs": [
    {
     "name": "stdout",
     "output_type": "stream",
     "text": [
      "ram\n",
      "56\n",
      "kathmandu\n"
     ]
    }
   ],
   "source": [
    "def list(l):\n",
    "    for i in l:\n",
    "        print(i)\n",
    "l = [\"ram\",56,\"kathmandu\"]\n",
    "list(l)"
   ]
  },
  {
   "cell_type": "code",
   "execution_count": null,
   "metadata": {},
   "outputs": [],
   "source": [
    "def list(l):\n",
    "    for i in l:\n",
    "        print(i)\n",
    "l = (\"ram\",56,\"kathmandu\")\n",
    "list(l)"
   ]
  },
  {
   "cell_type": "code",
   "execution_count": null,
   "metadata": {},
   "outputs": [],
   "source": [
    "def list(l):\n",
    "    name = l['name']\n",
    "    age = l['age']\n",
    "    add = l['add']\n",
    "l = {\"name\"\"ram\",\"age\":56,\"add\":\"kathmandu\"}\n",
    "list(l)"
   ]
  },
  {
   "cell_type": "code",
   "execution_count": 1,
   "metadata": {},
   "outputs": [
    {
     "name": "stdout",
     "output_type": "stream",
     "text": [
      "hello world\n",
      "enter y for more print = y\n",
      "hello world\n",
      "enter y for more print = y\n",
      "hello world\n",
      "enter y for more print = 1\n"
     ]
    }
   ],
   "source": [
    "#recursive function\n",
    "def hello():\n",
    "    print(\"hello world\")\n",
    "    x = input(\"enter y for more print = \")\n",
    "    if x == 'y':\n",
    "        hello()\n",
    "hello()"
   ]
  },
  {
   "cell_type": "code",
   "execution_count": 14,
   "metadata": {},
   "outputs": [
    {
     "name": "stdout",
     "output_type": "stream",
     "text": [
      "3.141592653589793\n"
     ]
    }
   ],
   "source": [
    "#math function\n",
    "import math as m\n",
    "print(m.pi)"
   ]
  },
  {
   "cell_type": "code",
   "execution_count": 18,
   "metadata": {},
   "outputs": [
    {
     "name": "stdout",
     "output_type": "stream",
     "text": [
      "enter radius r = 10\n",
      "314.1592653589793\n"
     ]
    }
   ],
   "source": [
    "import math as m\n",
    "p = m.pi\n",
    "def area(r):\n",
    "    a = p*(m.pow(r,2))\n",
    "    return a \n",
    "r = int(input(\"enter radius r = \"))\n",
    "print(area(r))"
   ]
  },
  {
   "cell_type": "code",
   "execution_count": 19,
   "metadata": {},
   "outputs": [
    {
     "data": {
      "text/plain": [
       "120"
      ]
     },
     "execution_count": 19,
     "metadata": {},
     "output_type": "execute_result"
    }
   ],
   "source": [
    "#factorial\n",
    "import math as m\n",
    "m.factorial(5)"
   ]
  },
  {
   "cell_type": "code",
   "execution_count": 23,
   "metadata": {},
   "outputs": [
    {
     "data": {
      "text/plain": [
       "30240"
      ]
     },
     "execution_count": 23,
     "metadata": {},
     "output_type": "execute_result"
    }
   ],
   "source": [
    "import math as m\n",
    "a= 10\n",
    "b = 5\n",
    "m.perm(a,b)"
   ]
  },
  {
   "cell_type": "code",
   "execution_count": 34,
   "metadata": {},
   "outputs": [],
   "source": [
    "#import math as m\n",
    "#m.log(100[,10])"
   ]
  },
  {
   "cell_type": "code",
   "execution_count": 35,
   "metadata": {},
   "outputs": [
    {
     "name": "stdout",
     "output_type": "stream",
     "text": [
      "1.0\n",
      "6.123233995736766e-17\n",
      "1.633123935319537e+16\n"
     ]
    }
   ],
   "source": [
    "import math as m\n",
    "a = m.pi/2\n",
    "print(m.sin(a))\n",
    "print(m.cos(a))\n",
    "print(m.tan(a))"
   ]
  },
  {
   "cell_type": "code",
   "execution_count": 36,
   "metadata": {},
   "outputs": [
    {
     "name": "stdout",
     "output_type": "stream",
     "text": [
      "1.0\n"
     ]
    }
   ],
   "source": [
    "import math as m\n",
    "p = m.pi/2\n",
    "x = m.pow(m.sin(p),2)\n",
    "y = m.pow(m.cos(p),2)\n",
    "print(x+y)"
   ]
  },
  {
   "cell_type": "code",
   "execution_count": 39,
   "metadata": {},
   "outputs": [
    {
     "name": "stdout",
     "output_type": "stream",
     "text": [
      "enter  = 2\n",
      "enter nameram\n",
      "enter age1\n",
      "enter address = sk\n",
      "enter namesja\n",
      "enter age1\n",
      "enter address = kssk\n",
      "[[1, 'ram', '1', 'sk'], [2, 'sja', '1', 'kssk']]\n"
     ]
    }
   ],
   "source": [
    "#list inside list using function\n",
    "data = []\n",
    "def datas(i,name,age,add):\n",
    "    global data\n",
    "    data = data+info\n",
    "n = int(input(\"enter  = \"))\n",
    "for i in range(1,n+1):\n",
    "    name = input(\"enter name\")\n",
    "    age = input(\"enter age\")\n",
    "    add = input(\"enter address = \")\n",
    "    info = [[i,name,age,add]]\n",
    "    datas(info)\n",
    "print(data)"
   ]
  },
  {
   "cell_type": "code",
   "execution_count": 19,
   "metadata": {},
   "outputs": [
    {
     "name": "stdout",
     "output_type": "stream",
     "text": [
      "enter 1 for edit and 2 for delete = 1\n",
      "enter index = 0\n",
      "value to update = sks\n",
      "[['sks', 'ram', '1', 'sk'], [2, 'sja', '1', 'kssk']]\n"
     ]
    }
   ],
   "source": [
    "data = [[1, 'ram', '1', 'sk'], [2, 'sja', '1', 'kssk']]\n",
    "def edit():\n",
    "    i = int(input(\"enter index = \"))\n",
    "    a[i] = input(\"value to update = \")\n",
    "    data[i][i] = a\n",
    "    return data\n",
    "\n",
    "def delete():\n",
    "    i = int(input(\"enter index = \"))\n",
    "    del data[i]\n",
    "    return data\n",
    "\n",
    "x = int(input(\"enter 1 for edit and 2 for delete = \"))\n",
    "if x ==1:\n",
    "    edit()\n",
    "elif x == 2:\n",
    "    delete()\n",
    "else:\n",
    "    print(data)\n",
    "print(data)"
   ]
  },
  {
   "cell_type": "code",
   "execution_count": 10,
   "metadata": {},
   "outputs": [
    {
     "ename": "KeyboardInterrupt",
     "evalue": "Interrupted by user",
     "output_type": "error",
     "traceback": [
      "\u001b[1;31m---------------------------------------------------------------------------\u001b[0m",
      "\u001b[1;31mKeyboardInterrupt\u001b[0m                         Traceback (most recent call last)",
      "\u001b[1;32m<ipython-input-10-54bd2f21d02a>\u001b[0m in \u001b[0;36m<module>\u001b[1;34m\u001b[0m\n\u001b[0;32m     28\u001b[0m         \u001b[0mcal\u001b[0m\u001b[1;33m(\u001b[0m\u001b[1;33m)\u001b[0m\u001b[1;33m\u001b[0m\u001b[1;33m\u001b[0m\u001b[0m\n\u001b[0;32m     29\u001b[0m \u001b[1;33m\u001b[0m\u001b[0m\n\u001b[1;32m---> 30\u001b[1;33m \u001b[0mcal\u001b[0m\u001b[1;33m(\u001b[0m\u001b[1;33m)\u001b[0m\u001b[1;33m\u001b[0m\u001b[1;33m\u001b[0m\u001b[0m\n\u001b[0m",
      "\u001b[1;32m<ipython-input-10-54bd2f21d02a>\u001b[0m in \u001b[0;36mcal\u001b[1;34m()\u001b[0m\n\u001b[0;32m      8\u001b[0m     \u001b[1;32mreturn\u001b[0m \u001b[0ma\u001b[0m\u001b[1;33m/\u001b[0m\u001b[0mb\u001b[0m\u001b[1;33m\u001b[0m\u001b[1;33m\u001b[0m\u001b[0m\n\u001b[0;32m      9\u001b[0m \u001b[1;32mdef\u001b[0m \u001b[0mcal\u001b[0m\u001b[1;33m(\u001b[0m\u001b[1;33m)\u001b[0m\u001b[1;33m:\u001b[0m\u001b[1;33m\u001b[0m\u001b[1;33m\u001b[0m\u001b[0m\n\u001b[1;32m---> 10\u001b[1;33m     \u001b[0ma\u001b[0m \u001b[1;33m=\u001b[0m \u001b[0mint\u001b[0m\u001b[1;33m(\u001b[0m\u001b[0minput\u001b[0m\u001b[1;33m(\u001b[0m\u001b[1;34m\"Enter a = \"\u001b[0m\u001b[1;33m)\u001b[0m\u001b[1;33m)\u001b[0m\u001b[1;33m\u001b[0m\u001b[1;33m\u001b[0m\u001b[0m\n\u001b[0m\u001b[0;32m     11\u001b[0m     \u001b[0mb\u001b[0m \u001b[1;33m=\u001b[0m \u001b[0mint\u001b[0m\u001b[1;33m(\u001b[0m\u001b[0minput\u001b[0m\u001b[1;33m(\u001b[0m\u001b[1;34m\"Enter b = \"\u001b[0m\u001b[1;33m)\u001b[0m\u001b[1;33m)\u001b[0m\u001b[1;33m\u001b[0m\u001b[1;33m\u001b[0m\u001b[0m\n\u001b[0;32m     12\u001b[0m     \u001b[0mo\u001b[0m \u001b[1;33m=\u001b[0m \u001b[0minput\u001b[0m\u001b[1;33m(\u001b[0m\u001b[1;34m\"Enter + - * /  \"\u001b[0m\u001b[1;33m)\u001b[0m\u001b[1;33m\u001b[0m\u001b[1;33m\u001b[0m\u001b[0m\n",
      "\u001b[1;32m~\\anaconda3\\lib\\site-packages\\ipykernel\\kernelbase.py\u001b[0m in \u001b[0;36mraw_input\u001b[1;34m(self, prompt)\u001b[0m\n\u001b[0;32m    858\u001b[0m                 \u001b[1;34m\"raw_input was called, but this frontend does not support input requests.\"\u001b[0m\u001b[1;33m\u001b[0m\u001b[1;33m\u001b[0m\u001b[0m\n\u001b[0;32m    859\u001b[0m             )\n\u001b[1;32m--> 860\u001b[1;33m         return self._input_request(str(prompt),\n\u001b[0m\u001b[0;32m    861\u001b[0m             \u001b[0mself\u001b[0m\u001b[1;33m.\u001b[0m\u001b[0m_parent_ident\u001b[0m\u001b[1;33m,\u001b[0m\u001b[1;33m\u001b[0m\u001b[1;33m\u001b[0m\u001b[0m\n\u001b[0;32m    862\u001b[0m             \u001b[0mself\u001b[0m\u001b[1;33m.\u001b[0m\u001b[0m_parent_header\u001b[0m\u001b[1;33m,\u001b[0m\u001b[1;33m\u001b[0m\u001b[1;33m\u001b[0m\u001b[0m\n",
      "\u001b[1;32m~\\anaconda3\\lib\\site-packages\\ipykernel\\kernelbase.py\u001b[0m in \u001b[0;36m_input_request\u001b[1;34m(self, prompt, ident, parent, password)\u001b[0m\n\u001b[0;32m    902\u001b[0m             \u001b[1;32mexcept\u001b[0m \u001b[0mKeyboardInterrupt\u001b[0m\u001b[1;33m:\u001b[0m\u001b[1;33m\u001b[0m\u001b[1;33m\u001b[0m\u001b[0m\n\u001b[0;32m    903\u001b[0m                 \u001b[1;31m# re-raise KeyboardInterrupt, to truncate traceback\u001b[0m\u001b[1;33m\u001b[0m\u001b[1;33m\u001b[0m\u001b[1;33m\u001b[0m\u001b[0m\n\u001b[1;32m--> 904\u001b[1;33m                 \u001b[1;32mraise\u001b[0m \u001b[0mKeyboardInterrupt\u001b[0m\u001b[1;33m(\u001b[0m\u001b[1;34m\"Interrupted by user\"\u001b[0m\u001b[1;33m)\u001b[0m \u001b[1;32mfrom\u001b[0m \u001b[1;32mNone\u001b[0m\u001b[1;33m\u001b[0m\u001b[1;33m\u001b[0m\u001b[0m\n\u001b[0m\u001b[0;32m    905\u001b[0m             \u001b[1;32mexcept\u001b[0m \u001b[0mException\u001b[0m \u001b[1;32mas\u001b[0m \u001b[0me\u001b[0m\u001b[1;33m:\u001b[0m\u001b[1;33m\u001b[0m\u001b[1;33m\u001b[0m\u001b[0m\n\u001b[0;32m    906\u001b[0m                 \u001b[0mself\u001b[0m\u001b[1;33m.\u001b[0m\u001b[0mlog\u001b[0m\u001b[1;33m.\u001b[0m\u001b[0mwarning\u001b[0m\u001b[1;33m(\u001b[0m\u001b[1;34m\"Invalid Message:\"\u001b[0m\u001b[1;33m,\u001b[0m \u001b[0mexc_info\u001b[0m\u001b[1;33m=\u001b[0m\u001b[1;32mTrue\u001b[0m\u001b[1;33m)\u001b[0m\u001b[1;33m\u001b[0m\u001b[1;33m\u001b[0m\u001b[0m\n",
      "\u001b[1;31mKeyboardInterrupt\u001b[0m: Interrupted by user"
     ]
    }
   ],
   "source": [
    "def add(a,b):\n",
    "    return a+b\n",
    "def sub(a,b):\n",
    "    return a-b\n",
    "def mul(a,b):\n",
    "    return a*b\n",
    "def div(a,b):\n",
    "    return a/b\n",
    "def cal():\n",
    "    a = int(input(\"Enter a = \"))\n",
    "    b = int(input(\"Enter b = \"))\n",
    "    o = input(\"Enter + - * /  \")        \n",
    "    if o == '+':\n",
    "        print(add(a,b))\n",
    "    elif o == '-':\n",
    "        print(sub(a,b))\n",
    "    elif o == '*':\n",
    "        \n",
    "        print(mul(a,b))\n",
    "    elif o == '/':\n",
    "        print(div(a,b))\n",
    "    else:\n",
    "        print(\"Invalid operator\")\n",
    "    \n",
    "    x = input(\"Enter y for more calculation \")\n",
    "    if x == 'y':\n",
    "        \n",
    "        cal()\n",
    "        \n",
    "cal()"
   ]
  },
  {
   "cell_type": "code",
   "execution_count": null,
   "metadata": {},
   "outputs": [],
   "source": []
  }
 ],
 "metadata": {
  "kernelspec": {
   "display_name": "Python 3",
   "language": "python",
   "name": "python3"
  },
  "language_info": {
   "codemirror_mode": {
    "name": "ipython",
    "version": 3
   },
   "file_extension": ".py",
   "mimetype": "text/x-python",
   "name": "python",
   "nbconvert_exporter": "python",
   "pygments_lexer": "ipython3",
   "version": "3.8.5"
  }
 },
 "nbformat": 4,
 "nbformat_minor": 4
}
