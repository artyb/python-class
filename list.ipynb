{
 "cells": [
  {
   "cell_type": "code",
   "execution_count": 6,
   "metadata": {},
   "outputs": [
    {
     "name": "stdout",
     "output_type": "stream",
     "text": [
      "Apple\n",
      "3\n",
      "Cat\n",
      "['Apple', 'Ball']\n",
      "['Apple', 'Cat']\n"
     ]
    }
   ],
   "source": [
    "#list tuple dicionary set\n",
    "a = [\"Apple\", \"Ball\", \"Cat\"]\n",
    "b = [1,2,3,4,5,6,7,8]\n",
    "print(a[0])\n",
    "print(b[2])\n",
    "print(a[-1])\n",
    "print(a[0:2])\n",
    "print(a[0::2])"
   ]
  },
  {
   "cell_type": "code",
   "execution_count": 9,
   "metadata": {},
   "outputs": [
    {
     "name": "stdout",
     "output_type": "stream",
     "text": [
      "[]\n",
      "[]\n"
     ]
    }
   ],
   "source": [
    "#to define empty list \n",
    "a = []\n",
    "b = list()\n",
    "print(a)\n",
    "print(b)"
   ]
  },
  {
   "cell_type": "code",
   "execution_count": 11,
   "metadata": {},
   "outputs": [
    {
     "name": "stdout",
     "output_type": "stream",
     "text": [
      "['Ant', 'apple']\n"
     ]
    }
   ],
   "source": [
    "a = [\"Ant\"]\n",
    "b = [\"apple\"]\n",
    "print(a+b)"
   ]
  },
  {
   "cell_type": "code",
   "execution_count": null,
   "metadata": {},
   "outputs": [],
   "source": [
    "a =  [\"Apple\", \"Ball\", \"Apple\"]"
   ]
  },
  {
   "cell_type": "code",
   "execution_count": 16,
   "metadata": {},
   "outputs": [
    {
     "name": "stdout",
     "output_type": "stream",
     "text": [
      "enter n = 3\n",
      "enter the value of x = 33\n",
      "the lis is l =  [33]\n",
      "the sum of list is 33\n",
      "the max value =  33\n",
      "the min value =  33\n",
      "enter the value of x = 45\n",
      "the lis is l =  [33, 45]\n",
      "the sum of list is 78\n",
      "the max value =  45\n",
      "the min value =  33\n",
      "enter the value of x = 67\n",
      "the lis is l =  [33, 45, 67]\n",
      "the sum of list is 145\n",
      "the max value =  67\n",
      "the min value =  33\n",
      "[33, 45, 67]\n"
     ]
    }
   ],
   "source": [
    "l = []\n",
    "n = int(input(\"enter n = \"))\n",
    "for i in range(n):\n",
    "    x = int(input(\"enter the value of x = \"))\n",
    "    #x = input(\"enter the value of x = \")\n",
    "    l = l+[x] #we should use square bracket because list concatinate with list only\n",
    "    print (\"the lis is l = \", l)\n",
    "    print(\"the sum of list is\", sum(l))\n",
    "    print(\"the max value = \", max(l))\n",
    "    print(\"the min value = \", min(l))\n",
    "    \n",
    "    \n",
    "print(l)\n",
    "    "
   ]
  },
  {
   "cell_type": "code",
   "execution_count": 17,
   "metadata": {},
   "outputs": [
    {
     "name": "stdout",
     "output_type": "stream",
     "text": [
      "[33, 45, 67]\n",
      "[33, 45, 67]\n"
     ]
    }
   ],
   "source": [
    "print(l)\n",
    "l.sort()\n",
    "print(l)"
   ]
  },
  {
   "cell_type": "code",
   "execution_count": 30,
   "metadata": {},
   "outputs": [
    {
     "name": "stdout",
     "output_type": "stream",
     "text": [
      "[67, 45, 33]\n"
     ]
    }
   ],
   "source": [
    "l.reverse()\n",
    "print(l)"
   ]
  },
  {
   "cell_type": "code",
   "execution_count": 35,
   "metadata": {},
   "outputs": [
    {
     "data": {
      "text/plain": [
       "['Ball', 'Cat', 'Egg', 'Zebra']"
      ]
     },
     "execution_count": 35,
     "metadata": {},
     "output_type": "execute_result"
    }
   ],
   "source": [
    "a = [\"Zebra\", \"Cat\", \"Ball\", \"Egg\"]\n",
    "a.sort()\n",
    "\n",
    "#a.reverse()\n",
    "a"
   ]
  },
  {
   "cell_type": "code",
   "execution_count": 40,
   "metadata": {},
   "outputs": [
    {
     "data": {
      "text/plain": [
       "['ant', 'ball', 'cat']"
      ]
     },
     "execution_count": 40,
     "metadata": {},
     "output_type": "execute_result"
    }
   ],
   "source": [
    "# this mutable beacuse we can change the value\n",
    "a = [\"apple\", \"ball\", \"cat\"]\n",
    "a[0] = \"ant\"\n",
    "a"
   ]
  },
  {
   "cell_type": "code",
   "execution_count": 41,
   "metadata": {},
   "outputs": [
    {
     "name": "stdout",
     "output_type": "stream",
     "text": [
      "ball\n",
      "cat\n",
      "dog\n"
     ]
    }
   ],
   "source": [
    "a = [\"apple\",\"ball\", \"cat\",\"dog\", \"apple\"]\n",
    "for i in a:\n",
    "    if i == \"apple\":\n",
    "        continue\n",
    "    print(i)\n",
    "    "
   ]
  },
  {
   "cell_type": "code",
   "execution_count": 42,
   "metadata": {},
   "outputs": [
    {
     "name": "stdout",
     "output_type": "stream",
     "text": [
      "apple\n",
      "ball\n"
     ]
    }
   ],
   "source": [
    "a = [\"apple\",\"ball\", \"cat\",\"dog\", \"apple\"]\n",
    "for i in a:\n",
    "    if i == \"cat\":\n",
    "        break\n",
    "    print(i)"
   ]
  },
  {
   "cell_type": "code",
   "execution_count": 43,
   "metadata": {},
   "outputs": [
    {
     "name": "stdout",
     "output_type": "stream",
     "text": [
      "enter x = dog\n",
      "yes 1\n"
     ]
    }
   ],
   "source": [
    "a = [\"apple\",\"ball\", \"cat\",\"dog\", \"apple\"]\n",
    "x = input(\"enter x = \")\n",
    "if x in a:\n",
    "    print(\"yes\", a.count(x))\n",
    "    "
   ]
  },
  {
   "cell_type": "code",
   "execution_count": 49,
   "metadata": {},
   "outputs": [
    {
     "name": "stdout",
     "output_type": "stream",
     "text": [
      "enter x = egg\n",
      "no\n"
     ]
    }
   ],
   "source": [
    "a = [\"apple\",\"ball\", \"cat\",\"dog\", \"apple\"]\n",
    "x = input(\"enter x = \")\n",
    "n = len(a)\n",
    "for i in range(n):\n",
    "    if x ==  a[i]:\n",
    "        print(\"yes\",i)\n",
    "    else:\n",
    "        print(\"no\")\n",
    "        break\n",
    "        \n",
    "    \n",
    "\n",
    "    "
   ]
  },
  {
   "cell_type": "code",
   "execution_count": 19,
   "metadata": {},
   "outputs": [
    {
     "name": "stdout",
     "output_type": "stream",
     "text": [
      "['apple', 'ball', 'ball', 'cat', 'cat']\n"
     ]
    }
   ],
   "source": [
    "#write a program to search that might be in upper or lower case\n",
    "a = [\"Apple\", \"ball\", \"Ball\", \"CAT\", \"cat\"]\n",
    "n = len(a)\n",
    "for i in range(n):\n",
    "    a[i] = a[i].lower()\n",
    "    \n",
    "print(a)\n",
    "\n",
    "    \n"
   ]
  },
  {
   "cell_type": "code",
   "execution_count": 1,
   "metadata": {},
   "outputs": [
    {
     "data": {
      "text/plain": [
       "['Apple', 'ball', 'Ball', 'CAT', 'cat']"
      ]
     },
     "execution_count": 1,
     "metadata": {},
     "output_type": "execute_result"
    }
   ],
   "source": [
    "a = [\"Apple\", \"ball\", \"Ball\", \"CAT\", \"cat\"]\n",
    "a.sort( key = str.lower)\n",
    "a"
   ]
  },
  {
   "cell_type": "code",
   "execution_count": 3,
   "metadata": {},
   "outputs": [
    {
     "name": "stdout",
     "output_type": "stream",
     "text": [
      "enetr n =2\n",
      "enter x = 23\n",
      "enter x = 44\n",
      "list is : [23, 44]\n",
      "sum is : 67\n",
      "max is : 44\n",
      "min is : 23\n"
     ]
    }
   ],
   "source": [
    "#append\n",
    "l =[]\n",
    "n = int(input(\"enetr n =\"))\n",
    "for i in range(n):\n",
    "    x = int(input(\"enter x = \"))\n",
    "    l.append(x)\n",
    "print(\"list is :\", l)\n",
    "print(\"sum is :\", sum(l))\n",
    "print(\"max is :\", max(l))\n",
    "print(\"min is :\", min(l))"
   ]
  },
  {
   "cell_type": "code",
   "execution_count": 4,
   "metadata": {},
   "outputs": [
    {
     "data": {
      "text/plain": [
       "[22, 'ball', 33, 44, 'apple', 55, 66, 77]"
      ]
     },
     "execution_count": 4,
     "metadata": {},
     "output_type": "execute_result"
    }
   ],
   "source": [
    "l = [22,33,44,\"apple\",55,66,77]\n",
    "l.insert(1,\"ball\")\n",
    "l"
   ]
  },
  {
   "cell_type": "code",
   "execution_count": null,
   "metadata": {},
   "outputs": [],
   "source": [
    "#del- to delete\n",
    "#remove()\n",
    "#pop()\n",
    "#clear()"
   ]
  },
  {
   "cell_type": "code",
   "execution_count": 11,
   "metadata": {},
   "outputs": [
    {
     "name": "stdout",
     "output_type": "stream",
     "text": [
      "[22, 33, 44, 'apple', 66, 77]\n"
     ]
    }
   ],
   "source": [
    "#delete\n",
    "a =[22,33,44,\"apple\",55,66,77]\n",
    "del a[4]\n",
    "print(a)"
   ]
  },
  {
   "cell_type": "code",
   "execution_count": 15,
   "metadata": {},
   "outputs": [
    {
     "name": "stdout",
     "output_type": "stream",
     "text": [
      "3\n",
      "[33, 'apple', 66, 77]\n"
     ]
    }
   ],
   "source": [
    "#to delete when we dont know index \n",
    "a =[22,33,44,\"apple\",55,66,77]\n",
    "i = a.index(\"apple\")\n",
    "print(i)\n",
    "del a[0:5:2]\n",
    "print(a)"
   ]
  },
  {
   "cell_type": "code",
   "execution_count": 16,
   "metadata": {},
   "outputs": [
    {
     "data": {
      "text/plain": [
       "[22, 33, 44, 55, 66, 77]"
      ]
     },
     "execution_count": 16,
     "metadata": {},
     "output_type": "execute_result"
    }
   ],
   "source": [
    "#remove\n",
    "#only one element can be removed at once\n",
    "a =[22,33,44,\"apple\",55,66,77]\n",
    "a.remove(\"apple\")\n",
    "a\n"
   ]
  },
  {
   "cell_type": "code",
   "execution_count": 22,
   "metadata": {},
   "outputs": [
    {
     "name": "stdout",
     "output_type": "stream",
     "text": [
      "55\n",
      "[22, 33, 44, 'apple', 66, 77]\n"
     ]
    }
   ],
   "source": [
    "#pop\n",
    "#pop is used to move rather than deleting\n",
    "a =[22,33,44,\"apple\",55,66,77]\n",
    "b = a.pop(4)\n",
    "print(b)\n",
    "print(a)\n"
   ]
  },
  {
   "cell_type": "code",
   "execution_count": 23,
   "metadata": {},
   "outputs": [
    {
     "name": "stdout",
     "output_type": "stream",
     "text": [
      "['ball', 'cat', 'dog', 'cat']\n"
     ]
    }
   ],
   "source": [
    "a = [\"apple\",\"ball\",\"cat\",\"dog\",\"apple\",\"cat\"]\n",
    "a.remove(\"apple\")\n",
    "a.remove(\"apple\")\n",
    "print(a)"
   ]
  },
  {
   "cell_type": "code",
   "execution_count": 30,
   "metadata": {},
   "outputs": [
    {
     "name": "stdout",
     "output_type": "stream",
     "text": [
      "['ball', 'cat', 'dog', 'cat']\n"
     ]
    }
   ],
   "source": [
    "a = [\"apple\",\"ball\",\"cat\",\"dog\",\"apple\",\"cat\",\"apple\"]\n",
    "n = a.count(\"apple\")\n",
    "for i in range(n):\n",
    "    a.remove(\"apple\")\n",
    "print(a)\n"
   ]
  },
  {
   "cell_type": "code",
   "execution_count": 42,
   "metadata": {},
   "outputs": [
    {
     "name": "stdout",
     "output_type": "stream",
     "text": [
      "['ball', 'cat', 'dog', 'cat']\n"
     ]
    }
   ],
   "source": [
    "#using if to delete from list\n",
    "b = []\n",
    "a = [\"apple\",\"ball\",\"cat\",\"dog\",\"apple\",\"cat\",\"apple\"]\n",
    "for i in a:\n",
    "    if i== \"apple\":\n",
    "        continue\n",
    "    b.append(i)\n",
    "print(b)\n"
   ]
  },
  {
   "cell_type": "code",
   "execution_count": 2,
   "metadata": {},
   "outputs": [
    {
     "name": "stdout",
     "output_type": "stream",
     "text": [
      "['ball', 'cat', 'dog', 'cat']\n"
     ]
    }
   ],
   "source": [
    "#using range or using index\n",
    "b = []\n",
    "a = [\"apple\",\"ball\",\"cat\",\"dog\",\"apple\",\"cat\",\"apple\"]\n",
    "n = len(a)\n",
    "for i in range(n):\n",
    "    if a[i] == \"apple\":\n",
    "        continue\n",
    "    b.append(a[i])\n",
    "print(b)\n"
   ]
  },
  {
   "cell_type": "code",
   "execution_count": 3,
   "metadata": {},
   "outputs": [
    {
     "name": "stdout",
     "output_type": "stream",
     "text": [
      "[0, 4, 6]\n"
     ]
    }
   ],
   "source": [
    "b = []\n",
    "a = [\"apple\",\"ball\",\"cat\",\"dog\",\"apple\",\"cat\",\"apple\"]\n",
    "n = len(a)\n",
    "for i in range(n):\n",
    "    if a[i] != \"apple\":\n",
    "        continue\n",
    "    b.append(i)\n",
    "print(b)\n"
   ]
  },
  {
   "cell_type": "code",
   "execution_count": 4,
   "metadata": {},
   "outputs": [
    {
     "name": "stdout",
     "output_type": "stream",
     "text": [
      "[]\n"
     ]
    }
   ],
   "source": [
    "#clear\n",
    "a = [1,2,3,4,5,6,7]\n",
    "a.clear()\n",
    "print(a)"
   ]
  },
  {
   "cell_type": "code",
   "execution_count": 5,
   "metadata": {},
   "outputs": [
    {
     "data": {
      "text/plain": [
       "[]"
      ]
     },
     "execution_count": 5,
     "metadata": {},
     "output_type": "execute_result"
    }
   ],
   "source": [
    "#delete\n",
    "a = [1,2,3,4,5,6,7]\n",
    "#del a to delete list\n",
    "#to delete element of list\n",
    "del a[:]\n",
    "a"
   ]
  }
 ],
 "metadata": {
  "kernelspec": {
   "display_name": "Python 3",
   "language": "python",
   "name": "python3"
  },
  "language_info": {
   "codemirror_mode": {
    "name": "ipython",
    "version": 3
   },
   "file_extension": ".py",
   "mimetype": "text/x-python",
   "name": "python",
   "nbconvert_exporter": "python",
   "pygments_lexer": "ipython3",
   "version": "3.8.5"
  }
 },
 "nbformat": 4,
 "nbformat_minor": 4
}
