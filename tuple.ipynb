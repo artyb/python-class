{
 "cells": [
  {
   "cell_type": "code",
   "execution_count": null,
   "metadata": {},
   "outputs": [],
   "source": [
    "#tuple is:\n",
    "#indexing\n",
    "#ordered\n",
    "#duplicate\n",
    "#immutable(unchangeable)\n"
   ]
  },
  {
   "cell_type": "code",
   "execution_count": 2,
   "metadata": {},
   "outputs": [
    {
     "name": "stdout",
     "output_type": "stream",
     "text": [
      "<class 'tuple'>\n",
      "<class 'tuple'>\n"
     ]
    }
   ],
   "source": [
    "a = tuple()\n",
    "b =(1,2,3)\n",
    "print(type(a))\n",
    "print(type(b))"
   ]
  },
  {
   "cell_type": "code",
   "execution_count": 4,
   "metadata": {},
   "outputs": [
    {
     "name": "stdout",
     "output_type": "stream",
     "text": [
      "('apple', 'ball', 'cat', 'dog', 'frog', 'sparrow')\n"
     ]
    },
    {
     "data": {
      "text/plain": [
       "'ball'"
      ]
     },
     "execution_count": 4,
     "metadata": {},
     "output_type": "execute_result"
    }
   ],
   "source": [
    "a = (\"apple\", \"ball\", \"cat\", \"dog\")\n",
    "b= (\"frog\", \"sparrow\")\n",
    "print(a+b)\n",
    "a[1]"
   ]
  },
  {
   "cell_type": "code",
   "execution_count": 5,
   "metadata": {},
   "outputs": [
    {
     "data": {
      "text/plain": [
       "('frog', 'sparrow', 'frog', 'sparrow')"
      ]
     },
     "execution_count": 5,
     "metadata": {},
     "output_type": "execute_result"
    }
   ],
   "source": [
    "b*2"
   ]
  },
  {
   "cell_type": "code",
   "execution_count": 6,
   "metadata": {},
   "outputs": [
    {
     "data": {
      "text/plain": [
       "('apple',)"
      ]
     },
     "execution_count": 6,
     "metadata": {},
     "output_type": "execute_result"
    }
   ],
   "source": [
    "a =()\n",
    "b =(\"apple\",)\n",
    "a+b"
   ]
  },
  {
   "cell_type": "code",
   "execution_count": 7,
   "metadata": {},
   "outputs": [
    {
     "name": "stdout",
     "output_type": "stream",
     "text": [
      "enetr the value of n = 3\n",
      "name = ra\n",
      "name = hari\n",
      "name = shyam\n",
      "('ra', 'hari', 'shyam')\n"
     ]
    }
   ],
   "source": [
    "y = tuple()\n",
    "n = int(input(\"enetr the value of n = \"))\n",
    "for i in range(n):\n",
    "    x = input(\"name = \")\n",
    "    y = y+(x,)\n",
    "print(y)\n",
    "    \n",
    "    "
   ]
  },
  {
   "cell_type": "code",
   "execution_count": 11,
   "metadata": {},
   "outputs": [
    {
     "name": "stdout",
     "output_type": "stream",
     "text": [
      "enetr the value of n = 2\n",
      "enter x = 1\n",
      "enter x = 2\n",
      "(1, 2)\n",
      "maximum value of x =  2\n",
      "minimum value of x =  1\n",
      "sum of x =  3\n"
     ]
    }
   ],
   "source": [
    "y = tuple()\n",
    "n = int(input(\"enetr the value of n = \"))\n",
    "for i in range(n):\n",
    "    x = int(input(\"enter x = \"))\n",
    "    y = y+(x,)\n",
    "print(y)\n",
    "print(\"maximum value of x = \", max(y))\n",
    "print(\"minimum value of x = \", min(y))\n",
    "print(\"sum of x = \", sum(y) )\n"
   ]
  },
  {
   "cell_type": "code",
   "execution_count": 12,
   "metadata": {},
   "outputs": [
    {
     "data": {
      "text/plain": [
       "[34, 35, 67, 234, 243]"
      ]
     },
     "execution_count": 12,
     "metadata": {},
     "output_type": "execute_result"
    }
   ],
   "source": [
    "a = (243,34,234,35,67)\n",
    "sorted(a)"
   ]
  },
  {
   "cell_type": "code",
   "execution_count": 21,
   "metadata": {},
   "outputs": [
    {
     "data": {
      "text/plain": [
       "[1, 2, 5, 7, 8]"
      ]
     },
     "execution_count": 21,
     "metadata": {},
     "output_type": "execute_result"
    }
   ],
   "source": [
    "a = (1,2,3,4,5,7,8)\n",
    "b = list(a)\n",
    "del b[2:4]\n",
    "b"
   ]
  },
  {
   "cell_type": "code",
   "execution_count": null,
   "metadata": {},
   "outputs": [],
   "source": [
    "#multi dimensional tuple\n",
    "a = ((1,2,3),(4,5,6),(7,8,9))\n",
    "b = [(1,2,3),(4,5,6),(7,8,9)] #tuple inside list\n",
    "c = ([1,2,3],[4,5,6],[7,8,9]) #list inside tuple\n"
   ]
  },
  {
   "cell_type": "code",
   "execution_count": 22,
   "metadata": {},
   "outputs": [
    {
     "name": "stdout",
     "output_type": "stream",
     "text": [
      "enter n = 3\n",
      "enter x = 1\n",
      "enter y = 5\n",
      "enter z = 6\n",
      "enter x = 4\n",
      "enter y = 7\n",
      "enter z = 9\n",
      "enter x = 7\n",
      "enter y = 8\n",
      "enter z = 0\n",
      "((1, 5, 6), (4, 7, 9), (7, 8, 0))\n"
     ]
    }
   ],
   "source": [
    "a = ((1,2,3),(4,5,6),(7,8,9))\n",
    "t = tuple()\n",
    "n = int(input(\"enter n = \"))\n",
    "for i in range(n):\n",
    "    x = int(input(\"enter x = \"))\n",
    "    y = int(input(\"enter y = \"))\n",
    "    z = int(input(\"enter z = \"))\n",
    "    t = t+((x,y,z),)\n",
    "print(t)"
   ]
  },
  {
   "cell_type": "code",
   "execution_count": 27,
   "metadata": {},
   "outputs": [
    {
     "name": "stdout",
     "output_type": "stream",
     "text": [
      "[(1, 2, 3), (4, 5, 6), (7, 8, 9), (10, 11, 12)]\n"
     ]
    }
   ],
   "source": [
    "a = ((1,2,3),(4,5,6),(7,8,9))\n",
    "b = list(a)\n",
    "b.append((10,11,12))\n",
    "print(b)\n"
   ]
  },
  {
   "cell_type": "code",
   "execution_count": 32,
   "metadata": {},
   "outputs": [
    {
     "name": "stdout",
     "output_type": "stream",
     "text": [
      "[[1, 2, 3], [4, 5, 6], [7, 8, 9]]\n"
     ]
    }
   ],
   "source": [
    "#changing tuple inside tuple to list inside list\n",
    "y = []\n",
    "x = ((1,2,3),(4,5,6),(7,8,9))\n",
    "for i in x:\n",
    "     y.append(list(i))\n",
    "print(y)\n"
   ]
  },
  {
   "cell_type": "code",
   "execution_count": 37,
   "metadata": {},
   "outputs": [
    {
     "name": "stdout",
     "output_type": "stream",
     "text": [
      "((1, 2, 3), (4, 5, 6), (7, 8, 9))\n"
     ]
    }
   ],
   "source": [
    "b = ()\n",
    "a = [[1, 2, 3], [4, 5, 6], [7, 8, 9]]\n",
    "for i in a:\n",
    "    b = b+(tuple(i),)\n",
    "print(b)"
   ]
  },
  {
   "cell_type": "code",
   "execution_count": null,
   "metadata": {},
   "outputs": [],
   "source": []
  }
 ],
 "metadata": {
  "kernelspec": {
   "display_name": "Python 3",
   "language": "python",
   "name": "python3"
  },
  "language_info": {
   "codemirror_mode": {
    "name": "ipython",
    "version": 3
   },
   "file_extension": ".py",
   "mimetype": "text/x-python",
   "name": "python",
   "nbconvert_exporter": "python",
   "pygments_lexer": "ipython3",
   "version": "3.8.5"
  }
 },
 "nbformat": 4,
 "nbformat_minor": 4
}
