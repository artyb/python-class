{
 "cells": [
  {
   "cell_type": "code",
   "execution_count": 3,
   "metadata": {},
   "outputs": [
    {
     "name": "stdout",
     "output_type": "stream",
     "text": [
      "enter phone2187282\n",
      "('ram', [2187282, 21829121])\n"
     ]
    }
   ],
   "source": [
    "#search\n",
    "a = {'ram':[2187282,21829121],\n",
    "    'shyam':[77282,828282]}\n",
    "n = int(input(\"enter phone\"))\n",
    "for i in a.items():\n",
    "    if n in i[1]:\n",
    "        print(i)\n",
    "    \n"
   ]
  },
  {
   "cell_type": "code",
   "execution_count": 11,
   "metadata": {},
   "outputs": [
    {
     "name": "stdout",
     "output_type": "stream",
     "text": [
      "enter phone = 2187282\n",
      "{'shyam': [77282, 828282]}\n"
     ]
    }
   ],
   "source": [
    "#delete\n",
    "a = {'ram':[2187282,21829121],\n",
    "    'shyam':[77282,828282]}\n",
    "n = int(input(\"enter phone = \"))\n",
    "for i in a.items():\n",
    "    if n in i[1]:\n",
    "        key = i[0]\n",
    "        del a[key]\n",
    "        break\n",
    "        \n",
    "print(a)"
   ]
  },
  {
   "cell_type": "code",
   "execution_count": 19,
   "metadata": {},
   "outputs": [
    {
     "name": "stdout",
     "output_type": "stream",
     "text": [
      "('ram', {'physics': 65, 'chemistry': 89, 'math': 90})\n",
      "('shyam', {'physics': 70, 'chemistry': 87, 'math': 98})\n"
     ]
    }
   ],
   "source": [
    "for i in d.items():\n",
    "    print(i)"
   ]
  },
  {
   "cell_type": "code",
   "execution_count": 20,
   "metadata": {},
   "outputs": [
    {
     "name": "stdout",
     "output_type": "stream",
     "text": [
      "65\n"
     ]
    }
   ],
   "source": [
    "print(d[\"ram\"][\"physics\"])"
   ]
  },
  {
   "cell_type": "code",
   "execution_count": 22,
   "metadata": {},
   "outputs": [
    {
     "data": {
      "text/plain": [
       "{'ram': {'physics': 69, 'chemistry': 89, 'math': 90},\n",
       " 'shyam': {'physics': 70, 'chemistry': 87, 'math': 98}}"
      ]
     },
     "execution_count": 22,
     "metadata": {},
     "output_type": "execute_result"
    }
   ],
   "source": [
    "#update\n",
    "d[\"ram\"][\"physics\"]= 69\n",
    "d"
   ]
  },
  {
   "cell_type": "code",
   "execution_count": 24,
   "metadata": {},
   "outputs": [
    {
     "name": "stdout",
     "output_type": "stream",
     "text": [
      "enter n = 2\n",
      "enter name = ram\n",
      "enter maks obtained in physics = 65\n",
      "enter maks obtained in cheistry = 77\n",
      "enter maks obtained in math = 79\n",
      "enter name = shyam\n",
      "enter maks obtained in physics = 47\n",
      "enter maks obtained in cheistry = 94\n",
      "enter maks obtained in math = 84\n",
      "{'ram': {'physics': 65, 'chemistry': 77, 'math': 79}, 'shyam': {'physics': 47, 'chemistry': 94, 'math': 84}}\n"
     ]
    }
   ],
   "source": [
    "data = {}\n",
    "n = int(input(\"enter n = \"))\n",
    "for i in range(n):\n",
    "    name = input(\"enter name = \")\n",
    "    physics = int(input(\"enter maks obtained in physics = \"))\n",
    "    chemistry = int(input(\"enter maks obtained in cheistry = \"))\n",
    "    math = int(input(\"enter maks obtained in math = \"))\n",
    "    data[name] = {\"physics\":physics,\"chemistry\":chemistry,\"math\":math}\n",
    "print(data)"
   ]
  },
  {
   "cell_type": "code",
   "execution_count": 25,
   "metadata": {},
   "outputs": [
    {
     "data": {
      "text/plain": [
       "{'name': 'hari', 'phone': 9845332896}"
      ]
     },
     "execution_count": 25,
     "metadata": {},
     "output_type": "execute_result"
    }
   ],
   "source": [
    "#d = [{<key>:<value>},{<key>:<value>}{<key>:<value>}] dictinary insdie list\n",
    "d = [{\"name\":\"ram\",\"phone\":9845790546},\n",
    "    {\"name\":\"shyam\", \"phone\":9864476484},\n",
    "    {\"name\":\"hari\", \"phone\":9845332896}]\n",
    "d[2]"
   ]
  },
  {
   "cell_type": "code",
   "execution_count": 26,
   "metadata": {},
   "outputs": [
    {
     "name": "stdout",
     "output_type": "stream",
     "text": [
      "{'name': 'ram', 'phone': 9845790546}\n",
      "{'name': 'shyam', 'phone': 9864476484}\n",
      "{'name': 'hari', 'phone': 9845332896}\n"
     ]
    }
   ],
   "source": [
    "for i in d:\n",
    "    print(i)"
   ]
  },
  {
   "cell_type": "code",
   "execution_count": 27,
   "metadata": {},
   "outputs": [
    {
     "data": {
      "text/plain": [
       "[{'name': 'ram', 'phone': 9845790546},\n",
       " {'name': 'shyam', 'phone': 9864476484},\n",
       " {'name': 'hari', 'phone': 9845332896},\n",
       " {'name': 'avi', 'phone': 98727272}]"
      ]
     },
     "execution_count": 27,
     "metadata": {},
     "output_type": "execute_result"
    }
   ],
   "source": [
    "x = {'name': 'avi', 'phone': 98727272}\n",
    "d.append(x)\n",
    "d"
   ]
  },
  {
   "cell_type": "code",
   "execution_count": 2,
   "metadata": {},
   "outputs": [
    {
     "name": "stdout",
     "output_type": "stream",
     "text": [
      "<class 'dict'>\n"
     ]
    }
   ],
   "source": [
    "a = {}\n",
    "print(type(a))"
   ]
  },
  {
   "cell_type": "code",
   "execution_count": 3,
   "metadata": {},
   "outputs": [
    {
     "name": "stdout",
     "output_type": "stream",
     "text": [
      "{'a': 'apple', 'b': 'ball'}\n",
      "{1: 'Apple', 2: 'Ball'}\n"
     ]
    }
   ],
   "source": [
    "#a = {<key>:<value>,<key>:<value>}\n",
    "dict_a = {\"a\":\"apple\",\"b\":\"ball\"}\n",
    "dict_b = {1:\"Apple\",2:\"Ball\"}\n",
    "print(dict_a)\n",
    "print(dict_b)"
   ]
  },
  {
   "cell_type": "code",
   "execution_count": 4,
   "metadata": {},
   "outputs": [
    {
     "data": {
      "text/plain": [
       "{1: 'apple'}"
      ]
     },
     "execution_count": 4,
     "metadata": {},
     "output_type": "execute_result"
    }
   ],
   "source": [
    "a = {}\n",
    "a[1] = \"apple\"\n",
    "a"
   ]
  },
  {
   "cell_type": "code",
   "execution_count": 5,
   "metadata": {},
   "outputs": [
    {
     "data": {
      "text/plain": [
       "{1: 'Ant'}"
      ]
     },
     "execution_count": 5,
     "metadata": {},
     "output_type": "execute_result"
    }
   ],
   "source": [
    "a = {1:\"Apple\"}\n",
    "a[1] = \"Ant\"\n",
    "a"
   ]
  },
  {
   "cell_type": "code",
   "execution_count": 6,
   "metadata": {},
   "outputs": [
    {
     "data": {
      "text/plain": [
       "{'Ram': [988282, 9292], 'Shyam': [22992, 91292]}"
      ]
     },
     "execution_count": 6,
     "metadata": {},
     "output_type": "execute_result"
    }
   ],
   "source": [
    "a = {}\n",
    "a[\"Ram\"] = [988282,9292]\n",
    "a[\"Shyam\"] = [22992,91292]\n",
    "a"
   ]
  },
  {
   "cell_type": "code",
   "execution_count": 7,
   "metadata": {},
   "outputs": [
    {
     "name": "stdout",
     "output_type": "stream",
     "text": [
      "enter n = 2\n",
      "enter name = ram\n",
      "enter phone = 2933\n",
      "enter name = shyam\n",
      "enter phone = 2228\n",
      "{'ram': 2933, 'shyam': 2228}\n"
     ]
    }
   ],
   "source": [
    "d = {}\n",
    "n = int(input(\"enter n = \"))\n",
    "for i in range(n):\n",
    "    name = input(\"enter name = \")\n",
    "    phone = int(input(\"enter phone = \"))\n",
    "    d[name] = phone\n",
    "print(d)"
   ]
  },
  {
   "cell_type": "code",
   "execution_count": 8,
   "metadata": {},
   "outputs": [
    {
     "data": {
      "text/plain": [
       "{'ram': 8382, 'shyam': 883}"
      ]
     },
     "execution_count": 8,
     "metadata": {},
     "output_type": "execute_result"
    }
   ],
   "source": [
    "d = {}\n",
    "d[\"ram\"] = 8382\n",
    "d[\"shyam\"] = 883\n",
    "d"
   ]
  },
  {
   "cell_type": "code",
   "execution_count": 9,
   "metadata": {},
   "outputs": [
    {
     "name": "stdout",
     "output_type": "stream",
     "text": [
      "ram\n",
      "shyam\n"
     ]
    }
   ],
   "source": [
    "for i in d:\n",
    "    print(i)"
   ]
  },
  {
   "cell_type": "code",
   "execution_count": 12,
   "metadata": {},
   "outputs": [
    {
     "name": "stdout",
     "output_type": "stream",
     "text": [
      "8382\n",
      "883\n"
     ]
    }
   ],
   "source": [
    "for i in d.values():\n",
    "    print(i)"
   ]
  },
  {
   "cell_type": "code",
   "execution_count": 13,
   "metadata": {},
   "outputs": [
    {
     "name": "stdout",
     "output_type": "stream",
     "text": [
      "('ram', 8382)\n",
      "('shyam', 883)\n"
     ]
    }
   ],
   "source": [
    "for i in d.items():\n",
    "    print(i)"
   ]
  },
  {
   "cell_type": "code",
   "execution_count": 14,
   "metadata": {},
   "outputs": [
    {
     "name": "stdout",
     "output_type": "stream",
     "text": [
      "[('ram', 8382), ('shyam', 883)]\n"
     ]
    }
   ],
   "source": [
    "z = []\n",
    "for i in d.items():\n",
    "    z.append(i)\n",
    "print(z)"
   ]
  },
  {
   "cell_type": "code",
   "execution_count": 15,
   "metadata": {},
   "outputs": [
    {
     "name": "stdout",
     "output_type": "stream",
     "text": [
      "{'Ram': 8776887, 'Shyam': 978979897}\n"
     ]
    }
   ],
   "source": [
    "z = [('Ram', 8776887), ('Shyam', 978979897)]\n",
    "d = {}\n",
    "for i in z:\n",
    "    key = i[0]\n",
    "    value = i[1]\n",
    "    d[key] = value\n",
    "print(d)"
   ]
  },
  {
   "cell_type": "code",
   "execution_count": 16,
   "metadata": {},
   "outputs": [
    {
     "data": {
      "text/plain": [
       "{'a': 'apple'}"
      ]
     },
     "execution_count": 16,
     "metadata": {},
     "output_type": "execute_result"
    }
   ],
   "source": [
    "d = {\"a\":\"apple\"}\n",
    "d"
   ]
  },
  {
   "cell_type": "code",
   "execution_count": 17,
   "metadata": {},
   "outputs": [
    {
     "name": "stdout",
     "output_type": "stream",
     "text": [
      "{'ram': [329229, 929220], 'shyam': [832829, 2929292]}\n",
      "[329229, 929220]\n"
     ]
    }
   ],
   "source": [
    "#list inside dictionary\n",
    "d = {\"ram\":[329229,929220],\n",
    "    \"shyam\":[832829,2929292]}\n",
    "print(d)\n",
    "print(d[\"ram\"])"
   ]
  },
  {
   "cell_type": "code",
   "execution_count": null,
   "metadata": {},
   "outputs": [],
   "source": [
    "def add(x,y):\n",
    "    return x+y\n",
    "def sub(x,y):\n",
    "    return x-y\n",
    "def mul(x,y):\n",
    "    return x*y\n",
    "def div(x,y):\n",
    "    return(x/y)\n",
    "def cal():\n",
    "    a = int(input(\"enter a = \"))\n",
    "    b = int(input(\"enter b = \"))\n",
    "    o = input(\"enter operator = \")\n",
    "    if o == \"+\":\n",
    "        value = add(x,y)\n",
    "        #print(\"{} + {} = {}\".format(x,y,value))\n",
    "        print(f\"{x} + {y} = {value}\")\n",
    "    elif o == \"-\":\n",
    "         print(sub(x,y))\n",
    "    elif 0 ==\"*\":\n",
    "         print(mul(x,y))\n",
    "    elif o == \"/\":\n",
    "         print(div(x,y))\n",
    "    else:\n",
    "        print(\"invalid operator\")\n",
    "    x = input(\"enter y for more calculation \")\n",
    "    if x == 'y':\n",
    "        cal()\n",
    "\n",
    "cal()"
   ]
  },
  {
   "cell_type": "code",
   "execution_count": null,
   "metadata": {},
   "outputs": [],
   "source": []
  }
 ],
 "metadata": {
  "kernelspec": {
   "display_name": "Python 3",
   "language": "python",
   "name": "python3"
  },
  "language_info": {
   "codemirror_mode": {
    "name": "ipython",
    "version": 3
   },
   "file_extension": ".py",
   "mimetype": "text/x-python",
   "name": "python",
   "nbconvert_exporter": "python",
   "pygments_lexer": "ipython3",
   "version": "3.8.5"
  }
 },
 "nbformat": 4,
 "nbformat_minor": 4
}
