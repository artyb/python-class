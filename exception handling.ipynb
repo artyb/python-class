{
 "cells": [
  {
   "cell_type": "code",
   "execution_count": null,
   "metadata": {},
   "outputs": [],
   "source": [
    "#try:\n",
    "   # <operation>\n",
    "#except:\n",
    "    #<operation>"
   ]
  },
  {
   "cell_type": "code",
   "execution_count": 1,
   "metadata": {},
   "outputs": [
    {
     "name": "stdout",
     "output_type": "stream",
     "text": [
      "enter a = sks\n",
      "please enter in int data type\n"
     ]
    }
   ],
   "source": [
    "try:\n",
    "    a = int(input(\"enter a = \"))\n",
    "    b = int(input(\"enter b = \"))\n",
    "    c = a+b\n",
    "    print (c)\n",
    "except:\n",
    "    print(\"please enter in int data type\")"
   ]
  },
  {
   "cell_type": "code",
   "execution_count": null,
   "metadata": {},
   "outputs": [],
   "source": [
    "#ValueError\n",
    "#ZeroDivisionError"
   ]
  },
  {
   "cell_type": "code",
   "execution_count": 3,
   "metadata": {},
   "outputs": [
    {
     "name": "stdout",
     "output_type": "stream",
     "text": [
      "enter a = 10\n",
      "enter b = 0\n",
      "the value of b cannot be zero\n"
     ]
    }
   ],
   "source": [
    "try:\n",
    "    a = int(input(\"enter a = \"))\n",
    "    b = int(input(\"enter b = \"))\n",
    "    c = a+b\n",
    "    d = a/b\n",
    "    print (c)\n",
    "except ValueError:\n",
    "    print(\"please enter in int data type\")\n",
    "except ZeroDivisionError:\n",
    "    print(\"the value of b cannot be zero\")"
   ]
  },
  {
   "cell_type": "code",
   "execution_count": 4,
   "metadata": {},
   "outputs": [
    {
     "name": "stdout",
     "output_type": "stream",
     "text": [
      "enter a = 2\n",
      "enter b = 3\n",
      "5\n"
     ]
    }
   ],
   "source": [
    "def cal():\n",
    "    try:\n",
    "        a = int(input(\"enter a = \"))\n",
    "        b = int(input(\"enter b = \"))\n",
    "        c = a+b\n",
    "        d = a/b\n",
    "        print (c)\n",
    "    except ValueError:\n",
    "        print(\"please enter in int data type\")\n",
    "    except ZeroDivisionError:\n",
    "        \n",
    "        print(\"the value of b cannot be zero\")\n",
    "        cal()\n",
    "cal()"
   ]
  },
  {
   "cell_type": "code",
   "execution_count": null,
   "metadata": {},
   "outputs": [],
   "source": [
    "#TypeError\n"
   ]
  },
  {
   "cell_type": "code",
   "execution_count": 6,
   "metadata": {},
   "outputs": [
    {
     "name": "stdout",
     "output_type": "stream",
     "text": [
      "enter length = 2\n",
      "enter bredth = 10\n",
      "the value of c =  20\n"
     ]
    }
   ],
   "source": [
    "try:\n",
    "    l = int(input(\"enter length = \"))\n",
    "    b = int(input(\"enter bredth = \"))\n",
    "except:\n",
    "    print(\"please enter int data type\")\n",
    "else:\n",
    "    a = l*b\n",
    "    print(\"the value of c = \", a)"
   ]
  },
  {
   "cell_type": "code",
   "execution_count": 10,
   "metadata": {},
   "outputs": [
    {
     "name": "stdout",
     "output_type": "stream",
     "text": [
      "enter length = 2\n",
      "enter breadth = aa\n",
      "please enter the data in int data type\n",
      "enter length = 3\n",
      "enter breadth = 2\n",
      "area is  6\n",
      "thanks for using the app\n",
      "thanks for using the app\n"
     ]
    }
   ],
   "source": [
    "def cal():\n",
    "    try :\n",
    "        l = int(input(\"enter length = \"))\n",
    "        b = int(input(\"enter breadth = \"))\n",
    "    except:\n",
    "        print(\"please enter the data in int data type\")\n",
    "        cal()\n",
    "    else:\n",
    "        a = l*b\n",
    "        print(\"area is \",a)\n",
    "    finally:\n",
    "        print(\"thanks for using the app\")\n",
    "cal()"
   ]
  },
  {
   "cell_type": "code",
   "execution_count": 14,
   "metadata": {},
   "outputs": [
    {
     "name": "stdout",
     "output_type": "stream",
     "text": [
      "enter a ?20\n",
      "enter b?0\n",
      "the value of b cannot be zero\n"
     ]
    }
   ],
   "source": [
    "try:\n",
    "    a = int(input(\"enter a ?\"))\n",
    "    b = int(input(\"enter b?\"))\n",
    "    if b == 0:\n",
    "        raise ZeroDivisionError    \n",
    "    else:\n",
    "        print(\"a/b= \",a/b)\n",
    "except ZeroDivisionError:\n",
    "    print(\"the value of b cannot be zero\")"
   ]
  },
  {
   "cell_type": "code",
   "execution_count": 18,
   "metadata": {},
   "outputs": [
    {
     "name": "stdout",
     "output_type": "stream",
     "text": [
      "enter value of n = 11\n"
     ]
    },
    {
     "ename": "AssertionError",
     "evalue": "",
     "output_type": "error",
     "traceback": [
      "\u001b[1;31m---------------------------------------------------------------------------\u001b[0m",
      "\u001b[1;31mAssertionError\u001b[0m                            Traceback (most recent call last)",
      "\u001b[1;32m<ipython-input-18-31cd92519976>\u001b[0m in \u001b[0;36m<module>\u001b[1;34m\u001b[0m\n\u001b[0;32m      2\u001b[0m \u001b[1;33m\u001b[0m\u001b[0m\n\u001b[0;32m      3\u001b[0m \u001b[0mn\u001b[0m \u001b[1;33m=\u001b[0m \u001b[0mint\u001b[0m\u001b[1;33m(\u001b[0m\u001b[0minput\u001b[0m\u001b[1;33m(\u001b[0m\u001b[1;34m\"enter value of n = \"\u001b[0m\u001b[1;33m)\u001b[0m\u001b[1;33m)\u001b[0m\u001b[1;33m\u001b[0m\u001b[1;33m\u001b[0m\u001b[0m\n\u001b[1;32m----> 4\u001b[1;33m \u001b[1;32massert\u001b[0m \u001b[0mn\u001b[0m\u001b[1;33m%\u001b[0m\u001b[1;36m2\u001b[0m \u001b[1;33m==\u001b[0m \u001b[1;36m0\u001b[0m\u001b[1;33m\u001b[0m\u001b[1;33m\u001b[0m\u001b[0m\n\u001b[0m",
      "\u001b[1;31mAssertionError\u001b[0m: "
     ]
    }
   ],
   "source": [
    "#Assertion Error\n",
    "\n",
    "n = int(input(\"enter value of n = \"))\n",
    "assert n%2 == 0"
   ]
  },
  {
   "cell_type": "code",
   "execution_count": 29,
   "metadata": {},
   "outputs": [
    {
     "name": "stdout",
     "output_type": "stream",
     "text": [
      "enter n = 11\n",
      "please enter even value\n"
     ]
    }
   ],
   "source": [
    "try:\n",
    "    n = int(input(\"enter n = \"))\n",
    "    assert n%2 == 0\n",
    "except AssertionError:\n",
    "    print(\"please enter even value\")"
   ]
  },
  {
   "cell_type": "code",
   "execution_count": 31,
   "metadata": {},
   "outputs": [
    {
     "name": "stdout",
     "output_type": "stream",
     "text": [
      "enter n = 12\n"
     ]
    }
   ],
   "source": [
    "def cal():\n",
    "    try:\n",
    "        n = int(input(\"enter n = \"))\n",
    "        assert n%2 == 0\n",
    "    except AssertionError:\n",
    "        print(\"please enter even value\")\n",
    "        cal()\n",
    "cal()"
   ]
  }
 ],
 "metadata": {
  "kernelspec": {
   "display_name": "Python 3",
   "language": "python",
   "name": "python3"
  },
  "language_info": {
   "codemirror_mode": {
    "name": "ipython",
    "version": 3
   },
   "file_extension": ".py",
   "mimetype": "text/x-python",
   "name": "python",
   "nbconvert_exporter": "python",
   "pygments_lexer": "ipython3",
   "version": "3.8.5"
  }
 },
 "nbformat": 4,
 "nbformat_minor": 4
}
