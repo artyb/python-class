{
 "cells": [
  {
   "cell_type": "code",
   "execution_count": 1,
   "metadata": {},
   "outputs": [
    {
     "name": "stdout",
     "output_type": "stream",
     "text": [
      "<class 'str'>\n",
      "hello world\n"
     ]
    }
   ],
   "source": [
    "a = \"hello world\"\n",
    "print(type(a))\n",
    "print(a)\n"
   ]
  },
  {
   "cell_type": "code",
   "execution_count": 9,
   "metadata": {},
   "outputs": [
    {
     "name": "stdout",
     "output_type": "stream",
     "text": [
      "hlowrd\n"
     ]
    }
   ],
   "source": [
    "print(a[0::2])"
   ]
  },
  {
   "cell_type": "code",
   "execution_count": 7,
   "metadata": {},
   "outputs": [
    {
     "name": "stdout",
     "output_type": "stream",
     "text": [
      " world\n"
     ]
    }
   ],
   "source": [
    "print(a[5:])"
   ]
  },
  {
   "cell_type": "code",
   "execution_count": 10,
   "metadata": {},
   "outputs": [
    {
     "name": "stdout",
     "output_type": "stream",
     "text": [
      "dlrow oleh\n"
     ]
    }
   ],
   "source": [
    "a = \"helo world\"\n",
    "b = len(a)\n",
    "print(a[b::-1])"
   ]
  },
  {
   "cell_type": "code",
   "execution_count": 12,
   "metadata": {},
   "outputs": [
    {
     "name": "stdout",
     "output_type": "stream",
     "text": [
      "helloworld\n"
     ]
    }
   ],
   "source": [
    "a = \"hello\"\n",
    "b = \"world\"\n",
    "print(a+b)"
   ]
  },
  {
   "cell_type": "code",
   "execution_count": 19,
   "metadata": {},
   "outputs": [
    {
     "name": "stdout",
     "output_type": "stream",
     "text": [
      "enter a value for search = Ram\n",
      "yes\n",
      "2\n"
     ]
    }
   ],
   "source": [
    "#searching\n",
    "a = \"Ram , Shyam , Hari , Ram , Neha\"\n",
    "search = input(\"enter a value for search = \")\n",
    "if search in a:\n",
    "    print(\"yes\")\n",
    "    print(a.count(search))\n",
    "else:\n",
    "    print(\"no\")\n",
    "    "
   ]
  },
  {
   "cell_type": "code",
   "execution_count": 16,
   "metadata": {},
   "outputs": [
    {
     "data": {
      "text/plain": [
       "2"
      ]
     },
     "execution_count": 16,
     "metadata": {},
     "output_type": "execute_result"
    }
   ],
   "source": [
    "a = \"Ram , Shyam , Hari , Ram , Neha\"\n",
    "a.count(\"Ram\")"
   ]
  },
  {
   "cell_type": "code",
   "execution_count": 20,
   "metadata": {},
   "outputs": [
    {
     "name": "stdout",
     "output_type": "stream",
     "text": [
      "ram ,Shyam, Hari , ram, Neha\n"
     ]
    }
   ],
   "source": [
    "a = \"Ram ,Shyam, Hari , Ram, Neha\"\n",
    "b = a.replace(\"Ram\",\"ram\")\n",
    "print(b)"
   ]
  },
  {
   "cell_type": "code",
   "execution_count": 22,
   "metadata": {},
   "outputs": [
    {
     "name": "stdout",
     "output_type": "stream",
     "text": [
      "  Shyam Hari    Neha\n"
     ]
    }
   ],
   "source": [
    "#to delete the string\n",
    "a = \"Ram Shyam Hari  Ram Neha\"\n",
    "b = a.replace(\"Ram\", \" \")\n",
    "print(b)\n"
   ]
  },
  {
   "cell_type": "code",
   "execution_count": 24,
   "metadata": {},
   "outputs": [
    {
     "data": {
      "text/plain": [
       "'ram'"
      ]
     },
     "execution_count": 24,
     "metadata": {},
     "output_type": "execute_result"
    }
   ],
   "source": [
    "a = \"Ram\"\n",
    "#a.upper()\n",
    "a.lower()"
   ]
  },
  {
   "cell_type": "code",
   "execution_count": 25,
   "metadata": {},
   "outputs": [
    {
     "name": "stdout",
     "output_type": "stream",
     "text": [
      "enter a value for search = RAm\n",
      "yes\n",
      "2\n"
     ]
    }
   ],
   "source": [
    "#here we can use upper lower to remove case sensetivity\n",
    "a = \"Ram , Shyam , Hari , Ram , Neha\".lower()\n",
    "search = input(\"enter a value for search = \").lower()\n",
    "if search in a:\n",
    "    print(\"yes\")\n",
    "    print(a.count(search))\n",
    "else:\n",
    "    print(\"no\")"
   ]
  },
  {
   "cell_type": "code",
   "execution_count": 29,
   "metadata": {},
   "outputs": [
    {
     "name": "stdout",
     "output_type": "stream",
     "text": [
      "enter name = Ram\n",
      "enter phone number = 98377373\n",
      "hello i Am Ram. My phone number is 98377373\n"
     ]
    }
   ],
   "source": [
    "#string formatting\n",
    "#name = \"Ram\"\n",
    "#phone = 987477728\n",
    "#info = name + str(phone)\n",
    "#info\n",
    "name = input(\"enter name = \")\n",
    "phone = int(input(\"enter phone number = \"))\n",
    "data = f\"Hello i Am {name}. My phone number is {phone}\"\n",
    "print(data)"
   ]
  },
  {
   "cell_type": "code",
   "execution_count": 32,
   "metadata": {},
   "outputs": [
    {
     "name": "stdout",
     "output_type": "stream",
     "text": [
      "enter n = 2\n",
      "enter nameRam\n",
      "enetr phone number = 983733\n",
      "enter nameShyam\n",
      "enetr phone number = 9882\n",
      "Ram 983733\n",
      "Shyam 9882\n",
      "\n"
     ]
    }
   ],
   "source": [
    "info = str()\n",
    "n = int(input(\"enter n = \"))\n",
    "for i in range(n):\n",
    "    name = input(\"enter name\")\n",
    "    phone = int(input(\"enetr phone number = \"))\n",
    "    data =  f\"{name} {phone}\\n\"\n",
    "    info = info+data\n",
    "    \n",
    "print(info)\n",
    "    \n",
    "    "
   ]
  },
  {
   "cell_type": "code",
   "execution_count": 41,
   "metadata": {},
   "outputs": [
    {
     "name": "stdout",
     "output_type": "stream",
     "text": [
      "enter n = 3\n",
      "enter nameabc\n",
      "enter price = 30\n",
      "enter quantity4\n",
      "enter namexyz\n",
      "enter price = 30\n",
      "enter quantity4\n",
      "enter nameasd\n",
      "enter price = 20\n",
      "enter quantity4\n",
      "abc 30 4 120\n",
      "xyz 30 4 120\n",
      "asd 20 4 80\n",
      "\n",
      "320\n"
     ]
    }
   ],
   "source": [
    "info = str()\n",
    "grandtotal = 0\n",
    "n = int(input(\"enter n = \"))\n",
    "for i in range(n):\n",
    "    name = input(\"enter name\")\n",
    "    price = int(input(\"enter price = \"))\n",
    "    quantity = int(input(\"enter quantity\"))\n",
    "    total = price*quantity\n",
    "    data =  f\"{name} {price} {quantity} {total}\\n\"\n",
    "    info = info+data\n",
    "    grandtotal = grandtotal+total\n",
    "    \n",
    "print(info)\n",
    "print(\"grandtotal= \", grandtotal)"
   ]
  },
  {
   "cell_type": "code",
   "execution_count": 43,
   "metadata": {},
   "outputs": [
    {
     "data": {
      "text/plain": [
       "['Apple', 'Ball', 'Cat', 'Wai-Wai']"
      ]
     },
     "execution_count": 43,
     "metadata": {},
     "output_type": "execute_result"
    }
   ],
   "source": [
    "#split\n",
    "#to change tha data in list form we use split function\n",
    "a = \"Apple Ball Cat Wai-Wai\"\n",
    "b = a.split()\n",
    "b"
   ]
  },
  {
   "cell_type": "code",
   "execution_count": 44,
   "metadata": {},
   "outputs": [
    {
     "data": {
      "text/plain": [
       "'Apple'"
      ]
     },
     "execution_count": 44,
     "metadata": {},
     "output_type": "execute_result"
    }
   ],
   "source": [
    "b[0]"
   ]
  },
  {
   "cell_type": "code",
   "execution_count": 48,
   "metadata": {},
   "outputs": [
    {
     "name": "stdout",
     "output_type": "stream",
     "text": [
      "abc 30 4 120\n",
      "xyz 30 4 120\n"
     ]
    }
   ],
   "source": [
    "a = \"abc 30 4 120\\nxyz 30 4 120\"\n",
    "print(a)"
   ]
  },
  {
   "cell_type": "code",
   "execution_count": 49,
   "metadata": {},
   "outputs": [
    {
     "data": {
      "text/plain": [
       "['abc 30 4 120', 'xyz 30 4 120']"
      ]
     },
     "execution_count": 49,
     "metadata": {},
     "output_type": "execute_result"
    }
   ],
   "source": [
    "a.split(\"\\n\")"
   ]
  },
  {
   "cell_type": "code",
   "execution_count": 19,
   "metadata": {},
   "outputs": [
    {
     "name": "stdout",
     "output_type": "stream",
     "text": [
      "enter student roll no = 1\n",
      "enter student name = Hari\n",
      "enter gender = Male\n",
      "enter class number = 12\n",
      "enter  marks obtained in english = 7\n",
      "enter marks obtained in maths = 77\n",
      "enter marks obtained in chemistry = 88\n",
      "enter marks obtained in physics = 88\n",
      "-------------------------Marksheet--------------\n",
      "Total marks : 260\n",
      "Percentage : 52.0\n",
      "Grade: C\n",
      "Remarks : Average\n",
      "failed Subject 1\n",
      "failed subject name  english\n"
     ]
    }
   ],
   "source": [
    "#marksheet\n",
    "Rollno = int(input(\"enter student roll no = \"))\n",
    "Name = input(\"enter student name = \")\n",
    "Gender = input(\"enter gender = \")\n",
    "classno = int(input(\"enter class number = \"))\n",
    "english = int(input(\"enter  marks obtained in english = \"))\n",
    "maths = int(input(\"enter marks obtained in maths = \"))\n",
    "chemistry = int(input(\"enter marks obtained in chemistry = \"))\n",
    "physics = int(input(\"enter marks obtained in physics = \"))\n",
    "totalmarksobtained = english+maths+chemistry+physics\n",
    "percentage = totalmarksobtained/500 *100\n",
    "print(\"-------------------------Marksheet--------------\")\n",
    "print(\"Total marks :\", totalmarksobtained)\n",
    "print(\"Percentage :\", percentage)\n",
    "\n",
    "\n",
    "if percentage >=80:\n",
    "    print(\"Grade : A+1\")\n",
    "    print(\"Remarks : Excellent\")\n",
    "elif percentage >= 70:\n",
    "    print(\"Grade: A\")\n",
    "    print(\"Remarks : VeryGood\")\n",
    "elif percentage>= 60:\n",
    "    print(\"Grade: B\")\n",
    "    print(\"Remarks :  Good\")\n",
    "elif percentage >= 50:\n",
    "    print(\"Grade: C\")\n",
    "    print(\"Remarks : Average\")\n",
    "elif percentage >=40:\n",
    "    print(\"Grade:\", D)\n",
    "    print(\"Remarks : Needs Improvement\")\n",
    "    \n",
    "else:\n",
    "    print(\"fail\")\n",
    "    print(\"Remarks : Failure\")\n",
    "    \n",
    "i = 0\n",
    "subjectname = \" \"\n",
    "if english<32:\n",
    "    i = i+1\n",
    "    subjectname += \"english\"\n",
    "if maths<32:\n",
    "    i= i+1\n",
    "    subjectname += \"maths\"\n",
    "if chemistry<32:\n",
    "    i=i+1\n",
    "    subjectname+= \"chemistry\"\n",
    "if physics<32:\n",
    "    i=i+1\n",
    "    subjectname+= \"physics\"\n",
    "    \n",
    "print(\"failed Subject = \", i)\n",
    "print(\"failed subject name = \", subjectname)\n",
    "    \n",
    "\n",
    "    "
   ]
  },
  {
   "cell_type": "code",
   "execution_count": 21,
   "metadata": {},
   "outputs": [
    {
     "name": "stdout",
     "output_type": "stream",
     "text": [
      "this is a fstring 3.15625\n"
     ]
    }
   ],
   "source": [
    "import time\n",
    "value = time.process_time()\n",
    "a=f\"this is a fstring {value}\"\n",
    "print(a)"
   ]
  },
  {
   "cell_type": "code",
   "execution_count": null,
   "metadata": {},
   "outputs": [],
   "source": [
    "#list tuple dictionary set\n"
   ]
  }
 ],
 "metadata": {
  "kernelspec": {
   "display_name": "Python 3",
   "language": "python",
   "name": "python3"
  },
  "language_info": {
   "codemirror_mode": {
    "name": "ipython",
    "version": 3
   },
   "file_extension": ".py",
   "mimetype": "text/x-python",
   "name": "python",
   "nbconvert_exporter": "python",
   "pygments_lexer": "ipython3",
   "version": "3.8.5"
  }
 },
 "nbformat": 4,
 "nbformat_minor": 4
}
