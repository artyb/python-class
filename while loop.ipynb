{
 "cells": [
  {
   "cell_type": "code",
   "execution_count": null,
   "metadata": {},
   "outputs": [],
   "source": [
    "#while loop\n",
    "while<condition>:\n",
    "     <operation>\n",
    "        "
   ]
  },
  {
   "cell_type": "code",
   "execution_count": 2,
   "metadata": {},
   "outputs": [
    {
     "name": "stdout",
     "output_type": "stream",
     "text": [
      "hello world\n",
      "hello world\n",
      "hello world\n",
      "hello world\n",
      "hello world\n"
     ]
    }
   ],
   "source": [
    "a = 0\n",
    "while  a<5:\n",
    "    print(\"hello world\")\n",
    "    a = a+1"
   ]
  },
  {
   "cell_type": "code",
   "execution_count": null,
   "metadata": {},
   "outputs": [],
   "source": []
  },
  {
   "cell_type": "code",
   "execution_count": 3,
   "metadata": {},
   "outputs": [
    {
     "name": "stdout",
     "output_type": "stream",
     "text": [
      "enter the value of n =3\n",
      "enter the value of x = 2\n",
      "2\n",
      "enter the value of x = 2\n",
      "4\n",
      "enter the value of x = 2\n",
      "6\n"
     ]
    }
   ],
   "source": [
    "a = 1\n",
    "s = 0\n",
    "n = int(input(\"enter the value of n =\"))\n",
    "while a <= n:\n",
    "    x = int(input(\"enter the value of x = \"))\n",
    "    s = s+x\n",
    "    a = a+1\n",
    "    print(s)\n",
    "    \n",
    "    "
   ]
  },
  {
   "cell_type": "code",
   "execution_count": 9,
   "metadata": {},
   "outputs": [
    {
     "name": "stdout",
     "output_type": "stream",
     "text": [
      "enter the n = 4\n",
      "4 * 1 = 4\n",
      "4 * 2 = 8\n",
      "4 * 3 = 12\n",
      "4 * 4 = 16\n",
      "4 * 5 = 20\n",
      "4 * 6 = 24\n",
      "4 * 7 = 28\n",
      "4 * 8 = 32\n",
      "4 * 9 = 36\n",
      "4 * 10 = 40\n"
     ]
    }
   ],
   "source": [
    "a = 1\n",
    "n = int(input(\"enter the n = \"))\n",
    "while a <= 10:\n",
    "    print (n, \"*\" , a ,\"=\", n*a)\n",
    "    a+= 1\n",
    "    \n"
   ]
  },
  {
   "cell_type": "code",
   "execution_count": 12,
   "metadata": {},
   "outputs": [
    {
     "name": "stdout",
     "output_type": "stream",
     "text": [
      "enter no of people = 2\n",
      "enter name = ram\n",
      "enter name = shyam\n",
      "  ram shyam\n"
     ]
    }
   ],
   "source": [
    "a = 1\n",
    "s = \" \"\n",
    "n = int(input(\"enter no of people = \"))\n",
    "while a<=n:\n",
    "    name = input(\"enter name = \")\n",
    "    s = s+ \" \"+ name\n",
    "    a = a+1\n",
    "print(s)"
   ]
  },
  {
   "cell_type": "code",
   "execution_count": 21,
   "metadata": {},
   "outputs": [
    {
     "name": "stdout",
     "output_type": "stream",
     "text": [
      "enetr no of people = 2\n",
      "enter name = Ram\n",
      "enter name = Shyam\n",
      "  Ram\n",
      " Shyam\n",
      "\n"
     ]
    }
   ],
   "source": [
    "s = str(\" \")\n",
    "n = int(input(\"enetr no of people = \"))\n",
    "for i in range(n):\n",
    "    name = input(\"enter name = \")\n",
    "    s = s+\" \" +name+\"\\n\"\n",
    "    \n",
    "print(s)\n",
    "     \n"
   ]
  },
  {
   "cell_type": "code",
   "execution_count": 23,
   "metadata": {},
   "outputs": [
    {
     "name": "stdout",
     "output_type": "stream",
     "text": [
      "enetr no of people = 2\n",
      "enter name = ram\n",
      "enter phone munber1233\n",
      "enter name = Shyam\n",
      "enter phone munber987\n",
      "  ram 1233\n",
      " Shyam 987\n",
      "\n"
     ]
    }
   ],
   "source": [
    "s = str(\" \")\n",
    "n = int(input(\"enetr no of people = \"))\n",
    "for i in range(n):\n",
    "    name = input(\"enter name = \")\n",
    "    phone = int(input(\"enter phone munber\"))\n",
    "    s = s+\" \" +name+ \" \"+ str(phone) +\"\\n\"\n",
    "    \n",
    "print(s)"
   ]
  },
  {
   "cell_type": "code",
   "execution_count": 27,
   "metadata": {},
   "outputs": [
    {
     "name": "stdout",
     "output_type": "stream",
     "text": [
      "enter no of student2\n",
      "enter name = Ram\n",
      "enter phone number = 1234\n",
      "enter name = Shyam\n",
      "enter phone number = 98\n",
      "Ram 1234\n",
      "Shyam 98\n",
      "\n"
     ]
    }
   ],
   "source": [
    " a = 1\n",
    "s = str()\n",
    "n = int(input(\"enter no of student\"))\n",
    "while a <=n :\n",
    "    name = input(\"enter name = \")\n",
    "    phone = int(input(\"enter phone number = \"))\n",
    "    s = s +name+\" \"+ str(phone)+\"\\n\"\n",
    "    a = a+1\n",
    "print(s)"
   ]
  },
  {
   "cell_type": "code",
   "execution_count": 28,
   "metadata": {},
   "outputs": [
    {
     "name": "stdout",
     "output_type": "stream",
     "text": [
      "p\n",
      "y\n",
      "t\n",
      "h\n",
      "o\n",
      "n\n"
     ]
    }
   ],
   "source": [
    "s = \"python\"\n",
    "a = 0\n",
    "n = len(s)\n",
    "while a<n:\n",
    "    print(s[a])\n",
    "    a = a+1\n",
    " "
   ]
  },
  {
   "cell_type": "code",
   "execution_count": 29,
   "metadata": {},
   "outputs": [
    {
     "name": "stdout",
     "output_type": "stream",
     "text": [
      "hello"
     ]
    }
   ],
   "source": [
    "s = \"hello world\"\n",
    "a = 0\n",
    "n = len(s)\n",
    "while a<n:\n",
    "    if s[a] == \" \":\n",
    "        break\n",
    "    print(s[a], end = \"\")\n",
    "    a = a+1"
   ]
  },
  {
   "cell_type": "code",
   "execution_count": 2,
   "metadata": {},
   "outputs": [
    {
     "name": "stdout",
     "output_type": "stream",
     "text": [
      "h e l l o w o r l d "
     ]
    }
   ],
   "source": [
    "s = \"hello world\"\n",
    "a = 0\n",
    "n = len(s)\n",
    "while a<n:\n",
    "    if s[a] == \" \":\n",
    "        a = a+1\n",
    "        continue\n",
    "    print(s[a], end = \" \")\n",
    "    a = a+1\n",
    "    "
   ]
  }
 ],
 "metadata": {
  "kernelspec": {
   "display_name": "Python 3",
   "language": "python",
   "name": "python3"
  },
  "language_info": {
   "codemirror_mode": {
    "name": "ipython",
    "version": 3
   },
   "file_extension": ".py",
   "mimetype": "text/x-python",
   "name": "python",
   "nbconvert_exporter": "python",
   "pygments_lexer": "ipython3",
   "version": "3.8.5"
  }
 },
 "nbformat": 4,
 "nbformat_minor": 4
}
