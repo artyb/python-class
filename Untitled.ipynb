{
 "cells": [
  {
   "cell_type": "code",
   "execution_count": 16,
   "metadata": {},
   "outputs": [
    {
     "name": "stdout",
     "output_type": "stream",
     "text": [
      "enetr n = 2\n",
      "enter name = ram\n",
      "enetr age = 22\n",
      "enter address = kask\n",
      "enter name = shyam\n",
      "enetr age = 44\n",
      "enter address = ssks\n",
      "[['ram', 22, 'sjs'], ['ram', 22, 'sjs']]\n"
     ]
    }
   ],
   "source": [
    "#list inside list using function\n",
    "data = []\n",
    "def datas(name,age,add):\n",
    "    global data\n",
    "    data = data + info\n",
    "n = int(input(\"enetr n = \"))\n",
    "for i in range(1,n+1):\n",
    "    name = input(\"enter name = \")\n",
    "    age = int(input(\"enetr age = \"))\n",
    "    add = input(\"enter address = \")\n",
    "    datas(name,age,add)\n",
    "print(data)"
   ]
  },
  {
   "cell_type": "code",
   "execution_count": 23,
   "metadata": {},
   "outputs": [
    {
     "name": "stdout",
     "output_type": "stream",
     "text": [
      "enetr n = 2\n",
      "enetr name = ss\n",
      "enter age = 2\n",
      "enetr address = skks\n",
      "enetr name = sks\n",
      "enter age = 2\n",
      "enetr address = sks\n",
      "[['ss', '2', 2], ['sks', '2', 2]]\n"
     ]
    }
   ],
   "source": [
    "data = []\n",
    "n = int(input(\"enetr n = \"))\n",
    "for i in range(n):\n",
    "    name = input(\"enetr name = \")\n",
    "    age = int(input(\"enter age = \"))\n",
    "    add = input(\"enetr address = \")\n",
    "    info = [[name,str(age),age]]\n",
    "    data = data+info\n",
    "print(data)"
   ]
  },
  {
   "cell_type": "code",
   "execution_count": 56,
   "metadata": {},
   "outputs": [
    {
     "name": "stdout",
     "output_type": "stream",
     "text": [
      "welcome to your first game\n",
      "what is your namearati\n",
      "what is your age = 25\n",
      "you are eligile to play\n",
      "do you want to playyes\n",
      "you are starting at health 10\n",
      "lets play!!\n",
      "where you want to go left or rightleft\n",
      "good you have followed the path and reach the lack)do you want to swim_across or go_around?swim_across\n",
      "win\n"
     ]
    }
   ],
   "source": [
    "print(\"welcome to your first game\")\n",
    "name = input(\"what is your name\")\n",
    "age = int(input(\"what is your age = \"))\n",
    "health = 10\n",
    "if age >= 18:\n",
    "    print(\"you are eligile to play\")\n",
    "    wants_to_play = input(\"do you want to play\")\n",
    "    if wants_to_play == \"yes\":\n",
    "        print(\"you are starting at health\",health)\n",
    "        print(\"lets play!!\")\n",
    "        \n",
    "        left_or_right = input(\"where you want to go left or right\")\n",
    "        if left_or_right == \"left\":\n",
    "             ans = input(\"good you have followed the path and reach the lack)do you want to swim_across or go_around?\")\n",
    "             if ans == \"swim_across\":\n",
    "                print(\"win\")\n",
    "             else:\n",
    "                print(\"out\")\n",
    "        else:\n",
    "            print(\"you are out\")\n",
    "    else:\n",
    "        print(\"mss\")\n",
    "             \n",
    "           \n",
    "        \n",
    "        \n",
    "\n"
   ]
  },
  {
   "cell_type": "code",
   "execution_count": 66,
   "metadata": {},
   "outputs": [
    {
     "name": "stdout",
     "output_type": "stream",
     "text": [
      "this my file to demonstrate data\n"
     ]
    }
   ],
   "source": [
    "from time import sleep\n",
    "print(\"this my file to demonstrate data\")\n",
    "def process_data():\n",
    "    print(\"begining data processing\")\n",
    "    modified_data = data + \"data that has been modified\"\n",
    "    sleep(3)\n",
    "    print(\"data processing finised\")\n",
    "    return modified_data \n",
    "if name == \"main\":\n",
    "    data = \"read my data from web\"\n",
    "    print(data)\n",
    "    modified_data = process_data()\n",
    "    print(modified_data)"
   ]
  },
  {
   "cell_type": "code",
   "execution_count": 8,
   "metadata": {},
   "outputs": [
    {
     "name": "stdout",
     "output_type": "stream",
     "text": [
      "enter number of racers(2-10)3\n",
      "3\n"
     ]
    }
   ],
   "source": [
    "import turtle\n",
    "WIDTH,HEIGHT = 500,500\n",
    "screen = turtle.Screen()\n",
    "screen.setup(WIDTH,HEIGHT)\n",
    "screen.title(\"hello this my turtle game\")\n",
    "\n",
    "def get_numbers_of_racers():\n",
    "    racers = 0\n",
    "    while True:\n",
    "        racers = input(\"enter number of racers(2-10)\")\n",
    "        if racers.isdigit():\n",
    "            racers = int(racers)\n",
    "        else:\n",
    "            print(\"you must enter the number ..!\")\n",
    "            continue\n",
    "        if 2<= racers <=10:\n",
    "            return racers\n",
    "        else:\n",
    "            print(\"enter the number between 2 to 10 ..!\")\n",
    "racers = get_numbers_of_racers()\n",
    "print(racers)"
   ]
  }
 ],
 "metadata": {
  "kernelspec": {
   "display_name": "Python 3",
   "language": "python",
   "name": "python3"
  },
  "language_info": {
   "codemirror_mode": {
    "name": "ipython",
    "version": 3
   },
   "file_extension": ".py",
   "mimetype": "text/x-python",
   "name": "python",
   "nbconvert_exporter": "python",
   "pygments_lexer": "ipython3",
   "version": "3.8.5"
  }
 },
 "nbformat": 4,
 "nbformat_minor": 4
}
