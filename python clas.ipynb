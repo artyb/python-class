{
 "cells": [
  {
   "cell_type": "code",
   "execution_count": 2,
   "metadata": {},
   "outputs": [
    {
     "name": "stdout",
     "output_type": "stream",
     "text": [
      "30\n"
     ]
    }
   ],
   "source": [
    "a= \"10\"\n",
    "b = 20\n",
    "print(int(a)+b)\n"
   ]
  },
  {
   "cell_type": "code",
   "execution_count": 2,
   "metadata": {},
   "outputs": [
    {
     "name": "stdout",
     "output_type": "stream",
     "text": [
      "enter the value of a= 20\n",
      "enter the value of b= 39\n",
      "the value of c is =  59\n"
     ]
    }
   ],
   "source": [
    "#if else statement\n",
    "# operator < > == <= >= != \n",
    "a = int(input(\"enter the value of a= \"))\n",
    "b = int(input(\"enter the value of b= \"))\n",
    "c = a+b\n",
    "print(\"the value of c is = \", c)\n"
   ]
  },
  {
   "cell_type": "code",
   "execution_count": 4,
   "metadata": {},
   "outputs": [
    {
     "name": "stdout",
     "output_type": "stream",
     "text": [
      "A is smaller\n"
     ]
    }
   ],
   "source": [
    "a = 10\n",
    "b = 20\n",
    "if a<b:\n",
    "    print(\"A is smaller\")\n",
    "elif b<a:\n",
    "    print(\"b is smaller\")\n",
    "else:\n",
    "    print(\"both are equal\")"
   ]
  },
  {
   "cell_type": "code",
   "execution_count": null,
   "metadata": {},
   "outputs": [],
   "source": []
  },
  {
   "cell_type": "code",
   "execution_count": 2,
   "metadata": {},
   "outputs": [
    {
     "name": "stdout",
     "output_type": "stream",
     "text": [
      "enter the value of a= 10\n",
      "enter the value of b= 20\n",
      "enter the value of c= 30\n",
      "c is greater\n"
     ]
    }
   ],
   "source": [
    "a = int(input(\"enter the value of a= \"))\n",
    "b = int(input(\"enter the value of b= \"))\n",
    "c = int(input(\"enter the value of c= \"))\n",
    "if a<b & c<b:\n",
    "    print(\"b is greater\")\n",
    "elif a>b & a>c:  \n",
    "    print(\"a is greater\")\n",
    "elif c>b & c>a:\n",
    "    print(\"c is greater\")\n",
    "else:\n",
    "    print(\"all are equal\")"
   ]
  },
  {
   "cell_type": "code",
   "execution_count": 18,
   "metadata": {},
   "outputs": [
    {
     "name": "stdout",
     "output_type": "stream",
     "text": [
      "enter a = 10\n",
      "enter b = 0\n",
      "enter operator + - * / /\n",
      "value of b cannot be 0\n"
     ]
    }
   ],
   "source": [
    "a = int(input(\"enter a = \"))\n",
    "b = int(input(\"enter b = \"))\n",
    "o = input(\"enter operator + - * / \")\n",
    "if o == \"+\":\n",
    "    print(a+b)\n",
    "elif o == \"-\":\n",
    "    print(a-b)\n",
    "elif o == \"*\" :\n",
    "    print(a*b)\n",
    "elif o == \"/\" :\n",
    "    if b == 0:\n",
    "        print(\"value of b cannot be 0\")\n",
    "    else:\n",
    "        print(a/b)\n",
    "#elif b == 0:\n",
    "    #print(\" value of b cannpt be 0\")\n",
    "else:\n",
    "    print(\"invalid operator\")\n",
    "    "
   ]
  },
  {
   "cell_type": "code",
   "execution_count": 17,
   "metadata": {},
   "outputs": [],
   "source": [
    "#nestedif\n",
    "#if<condition>:\n",
    "#if<condition>:\n",
    "#<operation>\n",
    "#else<condition>:\n",
    "#<operation>\n"
   ]
  },
  {
   "cell_type": "code",
   "execution_count": 3,
   "metadata": {},
   "outputs": [
    {
     "name": "stdout",
     "output_type": "stream",
     "text": [
      "enter a = 10\n",
      "enter b = 0\n",
      "enter operator + - * / /\n",
      "value of b cannot be zero\n"
     ]
    }
   ],
   "source": [
    "a = int(input(\"enter a = \"))\n",
    "b = int(input(\"enter b = \"))\n",
    "o = input(\"enter operator + - * / \")\n",
    "if o == \"+\":\n",
    "    print(a+b)\n",
    "elif o == \"-\":\n",
    "    print(a-b)\n",
    "elif o == \"*\" :\n",
    "    print(a*b)\n",
    "elif o == \"/\"  and b!=0 :\n",
    "     print(a/b)\n",
    "elif b == 0:\n",
    "    print(\"value of b cannot be zero\")\n",
    "else:\n",
    "    print(\"invalid operator\")\n",
    "    "
   ]
  },
  {
   "cell_type": "code",
   "execution_count": null,
   "metadata": {},
   "outputs": [],
   "source": [
    "#interactive mode and script mode\n",
    "#order of operation- executes from left to right\n",
    "#python follows top-buttom approach"
   ]
  }
 ],
 "metadata": {
  "kernelspec": {
   "display_name": "Python 3",
   "language": "python",
   "name": "python3"
  },
  "language_info": {
   "codemirror_mode": {
    "name": "ipython",
    "version": 3
   },
   "file_extension": ".py",
   "mimetype": "text/x-python",
   "name": "python",
   "nbconvert_exporter": "python",
   "pygments_lexer": "ipython3",
   "version": "3.8.5"
  }
 },
 "nbformat": 4,
 "nbformat_minor": 4
}
