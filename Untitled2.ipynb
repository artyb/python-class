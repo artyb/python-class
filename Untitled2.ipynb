{
 "cells": [
  {
   "cell_type": "code",
   "execution_count": 1,
   "metadata": {},
   "outputs": [
    {
     "name": "stdout",
     "output_type": "stream",
     "text": [
      " \n",
      "file of   has been successfully created\n"
     ]
    }
   ],
   "source": [
    "from tkinter import *\n",
    "import tkinter\n",
    "\n",
    "def save_info():\n",
    "    firstname_info = firstname.get()\n",
    "    lastname_info = lastname.get()\n",
    "    print(firstname_info,lastname_info)\n",
    "    \n",
    "    filename = open('pythonform.txt','w')\n",
    "    filename.write(firstname_info)\n",
    "    filename.write(lastname_info)\n",
    "    filename.close()\n",
    "    print( \"file of \",firstname_info ,\"has been successfully created\")\n",
    "    \n",
    "    firstname_entry.delete(0,END)\n",
    "    lastname_entry.delete(0,END)\n",
    "    \n",
    "screen = Tk()\n",
    "screen.geometry(\"+500+500\")\n",
    "screen.title(\"Python form\")\n",
    "heading = Label(text = \"Python form\" , bg =\"SlateGray4\",fg=\"white\",height =\"2\",width =\"100\")\n",
    "heading.pack()\n",
    "\n",
    "firstname_text = Label(text = \"firstname *\",bg =\"SlateGray4\",fg=\"white\" )\n",
    "lastname_text = Label(text = \"lastname *\" ,bg =\"SlateGray4\",fg=\"white\")\n",
    "firstname_text.place(x =15,y= 70)\n",
    "lastname_text.place(x = 15,y= 100)\n",
    "\n",
    "firstname = StringVar()\n",
    "lastname = StringVar()\n",
    "\n",
    "\n",
    "firstname_entry = Entry(textvariable = firstname)\n",
    "lastname_entry = Entry(textvariable = lastname)\n",
    "\n",
    "\n",
    "firstname_entry.place(x= 80, y= 70) \n",
    "lastname_entry.place(x= 80, y= 100) \n",
    "\n",
    "submit = Button(screen ,text=\"submit\",width =\"30\",height=\"3\",command = save_info)\n",
    "submit.place(x=10, y = 130)\n",
    "\n",
    "\n",
    "screen.mainloop()\n"
   ]
  }
 ],
 "metadata": {
  "kernelspec": {
   "display_name": "Python 3",
   "language": "python",
   "name": "python3"
  },
  "language_info": {
   "codemirror_mode": {
    "name": "ipython",
    "version": 3
   },
   "file_extension": ".py",
   "mimetype": "text/x-python",
   "name": "python",
   "nbconvert_exporter": "python",
   "pygments_lexer": "ipython3",
   "version": "3.8.5"
  }
 },
 "nbformat": 4,
 "nbformat_minor": 4
}
