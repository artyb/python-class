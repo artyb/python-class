{
 "cells": [
  {
   "cell_type": "code",
   "execution_count": 2,
   "metadata": {},
   "outputs": [
    {
     "data": {
      "text/plain": [
       "list"
      ]
     },
     "execution_count": 2,
     "metadata": {},
     "output_type": "execute_result"
    }
   ],
   "source": [
    "#list in list\n",
    "a= [[1,2,3],\n",
    "    [4,5,6],\n",
    "    [7,8,9]]\n",
    "type(a)"
   ]
  },
  {
   "cell_type": "code",
   "execution_count": 3,
   "metadata": {},
   "outputs": [
    {
     "data": {
      "text/plain": [
       "3"
      ]
     },
     "execution_count": 3,
     "metadata": {},
     "output_type": "execute_result"
    }
   ],
   "source": [
    "len(a)"
   ]
  },
  {
   "cell_type": "code",
   "execution_count": 5,
   "metadata": {},
   "outputs": [
    {
     "data": {
      "text/plain": [
       "2"
      ]
     },
     "execution_count": 5,
     "metadata": {},
     "output_type": "execute_result"
    }
   ],
   "source": [
    "a[0][1]"
   ]
  },
  {
   "cell_type": "code",
   "execution_count": 12,
   "metadata": {},
   "outputs": [
    {
     "name": "stdout",
     "output_type": "stream",
     "text": [
      "enter n =2\n",
      "enetr name = jaj\n",
      "enter age = 28\n",
      "enter addressajaj\n",
      "enetr name = aja\n",
      "enter age = 1\n",
      "enter addresssjs\n",
      "[['jaj', '28', 'ajaj'], ['aja', '1', 'sjs']]\n"
     ]
    }
   ],
   "source": [
    "data = []\n",
    "n = int(input(\"enter n =\"))\n",
    "for i in range(n):\n",
    "    name = input(\"enetr name = \")\n",
    "    age = input(\"enter age = \")\n",
    "    address = input(\"enter address\")\n",
    "    info = [name , age , address]\n",
    "    data.append(info)\n",
    "print(data)"
   ]
  },
  {
   "cell_type": "code",
   "execution_count": 9,
   "metadata": {},
   "outputs": [
    {
     "name": "stdout",
     "output_type": "stream",
     "text": [
      "enter n = 2\n",
      "enetr name = ra\n",
      "enter age= 32\n",
      "enter address = lsl\n",
      "enetr name = shyam\n",
      "enter age= 2\n",
      "enter address = s\n",
      "[[1, 'ra', '32', 'lsl'], [2, 'shyam', '2', 's']]\n"
     ]
    }
   ],
   "source": [
    "data = []\n",
    "n = int(input(\"enter n = \"))\n",
    "for i in range(1,n+1):\n",
    "    name = input(\"enetr name = \")\n",
    "    age = input(\"enter age= \")\n",
    "    add = input(\"enter address = \")\n",
    "    info = [i,name,age,add]\n",
    "    data.append(info)\n",
    "print(data)"
   ]
  },
  {
   "cell_type": "code",
   "execution_count": 10,
   "metadata": {},
   "outputs": [
    {
     "name": "stdout",
     "output_type": "stream",
     "text": [
      "[1, 'ra', '32', 'lsl']\n",
      "[2, 'shyam', '2', 's']\n"
     ]
    }
   ],
   "source": [
    "for i in data:\n",
    "    print(i)"
   ]
  },
  {
   "cell_type": "code",
   "execution_count": 11,
   "metadata": {},
   "outputs": [
    {
     "name": "stdout",
     "output_type": "stream",
     "text": [
      "enter the sn = 1\n"
     ]
    },
    {
     "data": {
      "text/plain": [
       "[1, 'ra', '32', 'lsl']"
      ]
     },
     "execution_count": 11,
     "metadata": {},
     "output_type": "execute_result"
    }
   ],
   "source": [
    "sn = int(input(\"enter the sn = \"))\n",
    "data[sn-1]"
   ]
  },
  {
   "cell_type": "code",
   "execution_count": 2,
   "metadata": {},
   "outputs": [
    {
     "name": "stdout",
     "output_type": "stream",
     "text": [
      "1\n",
      "2\n",
      "3\n",
      "4\n",
      "5\n",
      "6\n",
      "7\n",
      "8\n",
      "9\n"
     ]
    }
   ],
   "source": [
    "matrix = [[1,2,3],\n",
    "         [4,5,6],\n",
    "         [7,8,9]]\n",
    "for sublist in matrix:\n",
    "    for i in sublist:\n",
    "        print(i)"
   ]
  },
  {
   "cell_type": "code",
   "execution_count": 4,
   "metadata": {},
   "outputs": [
    {
     "name": "stdout",
     "output_type": "stream",
     "text": [
      "[[1, 2, 3], [4, 5, 6], [7, 8, 9]]\n"
     ]
    }
   ],
   "source": [
    "a = [[1,2,3],[4,5,6]]\n",
    "#b = [7,8,9]#without additional bracket list wise jancha if list inside list ko lagi add bracket\n",
    "b= [[7,8,9]]\n",
    "print(a+b)"
   ]
  },
  {
   "cell_type": "code",
   "execution_count": 5,
   "metadata": {},
   "outputs": [
    {
     "data": {
      "text/plain": [
       "[[1, 2, 3], [4, 5, 6], [1, 2, 3], [4, 5, 6]]"
      ]
     },
     "execution_count": 5,
     "metadata": {},
     "output_type": "execute_result"
    }
   ],
   "source": [
    "a = [[1,2,3],[4,5,6]]\n",
    "a*2\n"
   ]
  },
  {
   "cell_type": "code",
   "execution_count": 10,
   "metadata": {},
   "outputs": [
    {
     "name": "stdout",
     "output_type": "stream",
     "text": [
      "enter n = 2\n",
      "enter name = ram\n",
      "enter age = 22\n",
      "enter address = sls\n",
      "enter name = shyam\n",
      "enter age = 22\n",
      "enter address = sksk\n",
      "[[1, 'ram', '22', 'sls'], [2, 'shyam', '22', 'sksk']]\n"
     ]
    }
   ],
   "source": [
    "data = []\n",
    "n = int(input(\"enter n = \"))\n",
    "for i in range(1,n+1):\n",
    "    name = input(\"enter name = \")\n",
    "    age = input(\"enter age = \")\n",
    "    add = input(\"enter address = \")\n",
    "    info = [[i,name , age, add]]\n",
    "    data = data+info\n",
    "print(data)"
   ]
  },
  {
   "cell_type": "code",
   "execution_count": 11,
   "metadata": {},
   "outputs": [
    {
     "name": "stdout",
     "output_type": "stream",
     "text": [
      "[1, 'ram', '22', 'sls']\n",
      "[2, 'shyam', '22', 'sksk']\n"
     ]
    }
   ],
   "source": [
    "for i in data:\n",
    "    print(i)"
   ]
  },
  {
   "cell_type": "code",
   "execution_count": 13,
   "metadata": {},
   "outputs": [
    {
     "name": "stdout",
     "output_type": "stream",
     "text": [
      "enetr serial no = 1\n"
     ]
    },
    {
     "data": {
      "text/plain": [
       "[1, 'ram', '22', 'sls']"
      ]
     },
     "execution_count": 13,
     "metadata": {},
     "output_type": "execute_result"
    }
   ],
   "source": [
    "sn = int(input(\"enetr serial no = \"))\n",
    "data[sn-1]"
   ]
  },
  {
   "cell_type": "code",
   "execution_count": 7,
   "metadata": {},
   "outputs": [
    {
     "name": "stdout",
     "output_type": "stream",
     "text": [
      "enter value you want to search = ram\n",
      "[1, 'ram', '22', 'sls']\n",
      "yes\n",
      "[3, 'ram', 34, 'sjjs']\n",
      "yes\n"
     ]
    }
   ],
   "source": [
    "data = [[1, 'ram', '22', 'sls'], [2, 'shyam', '22', 'sksk'],[3,'ram',34,'sjjs']]\n",
    "search = input(\"enter value you want to search = \")\n",
    "for i in data:\n",
    "    if search in i:\n",
    "        print(i)\n",
    "#else:\n",
    "    #print(\"no\")"
   ]
  },
  {
   "cell_type": "code",
   "execution_count": 18,
   "metadata": {},
   "outputs": [
    {
     "name": "stdout",
     "output_type": "stream",
     "text": [
      "enetr n = 2\n",
      "enetr the item name = abc\n",
      "enter quantity = 2\n",
      "enter price = 30\n",
      "enetr the item name = xyz\n",
      "enter quantity = 2\n",
      "enter price = 30\n",
      "[['abc', 2, 30, 60], ['xyz', 2, 30, 60]]\n",
      "120\n"
     ]
    }
   ],
   "source": [
    "n = int(input(\"enetr n = \"))\n",
    "data = []\n",
    "grandtotal = 0\n",
    "for i in range(n):\n",
    "    item  = input(\"enetr the item name = \")\n",
    "    quantity = int(input(\"enter quantity = \"))\n",
    "    price = int(input(\"enter price = \"))\n",
    "    total = price*quantity\n",
    "    grandtotal = grandtotal+total\n",
    "    info = [item,quantity,price,total]\n",
    "    #data = data+info\n",
    "    data.append(info)\n",
    "    \n",
    "    \n",
    "print(data)\n",
    "print(grandtotal)\n",
    "    "
   ]
  },
  {
   "cell_type": "code",
   "execution_count": null,
   "metadata": {},
   "outputs": [],
   "source": [
    "a = [['abc', 2, 30, 60], ['xyz', 2, 30, 60]]\n",
    "search = input(\"enetr product name = \")\n",
    "for i in range(len(a)):\n",
    "    if search in a[i]:\n",
    "        index = i\n",
    "print(index)\n",
    "q = int(input(\"new quanity = \"))\n",
    "#i = int((input (\"index = \"))\n",
    "\n",
    "a[index][1] = q\n",
    "price = a[index][2]\n",
    "newtotal = price*q\n",
    "a[index][3] = newtotal\n",
    "\n",
    "        \n"
   ]
  },
  {
   "cell_type": "code",
   "execution_count": 4,
   "metadata": {},
   "outputs": [
    {
     "name": "stdout",
     "output_type": "stream",
     "text": [
      "new quanity = 4\n",
      "enter index = 0\n"
     ]
    },
    {
     "data": {
      "text/plain": [
       "[['abc', 4, 30, 120], ['xyz', 2, 30, 60]]"
      ]
     },
     "execution_count": 4,
     "metadata": {},
     "output_type": "execute_result"
    }
   ],
   "source": [
    "a = [['abc',2,30,60],\n",
    "    ['xyz',2,30,60]]\n",
    "q = int(input(\"new quanity = \"))\n",
    "i = int(input(\"enter index = \"))\n",
    "a[i][1] = q\n",
    "price = a[i][2]\n",
    "newtotal = price*q\n",
    "a[i][3] = newtotal\n",
    "a"
   ]
  },
  {
   "cell_type": "code",
   "execution_count": 6,
   "metadata": {},
   "outputs": [
    {
     "data": {
      "text/plain": [
       "[['abc', 4, 30, 120], ['xyz', 2, 30, 60]]"
      ]
     },
     "execution_count": 6,
     "metadata": {},
     "output_type": "execute_result"
    }
   ],
   "source": [
    "a"
   ]
  },
  {
   "cell_type": "code",
   "execution_count": null,
   "metadata": {},
   "outputs": [],
   "source": [
    "search = input(\"enter search= \")\n",
    "for i in data:\n",
    "    if search in i:\n",
    "        data.remove(i)\n",
    "print(data)\n"
   ]
  },
  {
   "cell_type": "code",
   "execution_count": null,
   "metadata": {},
   "outputs": [],
   "source": []
  }
 ],
 "metadata": {
  "kernelspec": {
   "display_name": "Python 3",
   "language": "python",
   "name": "python3"
  },
  "language_info": {
   "codemirror_mode": {
    "name": "ipython",
    "version": 3
   },
   "file_extension": ".py",
   "mimetype": "text/x-python",
   "name": "python",
   "nbconvert_exporter": "python",
   "pygments_lexer": "ipython3",
   "version": "3.8.5"
  }
 },
 "nbformat": 4,
 "nbformat_minor": 4
}
