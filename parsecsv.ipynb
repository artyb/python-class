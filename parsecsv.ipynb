{
 "cells": [
  {
   "cell_type": "code",
   "execution_count": 20,
   "metadata": {},
   "outputs": [
    {
     "name": "stdout",
     "output_type": "stream",
     "text": [
      "There are 30contributor currently\n",
      "<ul>\n",
      "\t<li> John Doe </li>\n",
      "\t<li> Dave Smith </li>\n",
      "\t<li> Mary Jacobs </li>\n",
      "\t<li> Jane Stuart </li>\n",
      "\t<li> Tom Wright </li>\n",
      "\t<li> Steve Robinson </li>\n",
      "\t<li> Nicole Jacobs </li>\n",
      "\t<li> Jane Wright </li>\n",
      "\t<li> Jane Doe </li>\n",
      "\t<li> Kurt Wright </li>\n",
      "\t<li> Kurt Robinson </li>\n",
      "\t<li> Jane Jenkins </li>\n",
      "\t<li> Neil Robinson </li>\n",
      "\t<li> Tom Patterson </li>\n",
      "\t<li> Sam Jenkins </li>\n",
      "\t<li> Steve Stuart </li>\n",
      "\t<li> Maggie Patterson </li>\n",
      "\t<li> Maggie Stuart </li>\n",
      "\t<li> Jane Doe </li>\n",
      "\t<li> Steve Patterson </li>\n",
      "\t<li> Dave Smith </li>\n",
      "\t<li> Sam Wilks </li>\n",
      "\t<li> Kurt Jefferson </li>\n",
      "\t<li> Sam Stuart </li>\n",
      "\t<li> Jane Stuart </li>\n",
      "\t<li> Dave Davis </li>\n",
      "\t<li> Sam Patterson </li>\n",
      "\t<li> Tom Jefferson </li>\n",
      "\t<li> Jane Stuart </li>\n",
      "\t<li> Maggie Jefferson </li>\n",
      "</ul>\n"
     ]
    }
   ],
   "source": [
    "import csv\n",
    "\n",
    "html_output = \" \"\n",
    "name = []\n",
    "\n",
    "with open('patron.csv','r') as csv_file:\n",
    "    csv_reader = csv.DictReader(csv_file)\n",
    "    \n",
    "    \n",
    "    next(csv_reader)\n",
    "   \n",
    "    \n",
    "    for line in csv_reader:\n",
    "        if line['FirstName'] == 'No Reward':\n",
    "            break\n",
    "        name.append(f\"{line['FirstName']} {line['LastName']}\")\n",
    "        \n",
    "html_output = f\"There are {len(name)}contributor currently\"\n",
    "html_output += '\\n<ul>'\n",
    "\n",
    "for names in name:\n",
    "    \n",
    "    html_output += f'\\n\\t<li> {names} </li>'\n",
    "html_output += '\\n</ul>'\n",
    "\n",
    "\n",
    "print(html_output)"
   ]
  },
  {
   "cell_type": "code",
   "execution_count": null,
   "metadata": {},
   "outputs": [],
   "source": []
  }
 ],
 "metadata": {
  "kernelspec": {
   "display_name": "Python 3",
   "language": "python",
   "name": "python3"
  },
  "language_info": {
   "codemirror_mode": {
    "name": "ipython",
    "version": 3
   },
   "file_extension": ".py",
   "mimetype": "text/x-python",
   "name": "python",
   "nbconvert_exporter": "python",
   "pygments_lexer": "ipython3",
   "version": "3.8.5"
  }
 },
 "nbformat": 4,
 "nbformat_minor": 4
}
