{
 "cells": [
  {
   "cell_type": "code",
   "execution_count": null,
   "metadata": {},
   "outputs": [],
   "source": [
    "# loop\n",
    "#for\n",
    "#while\n"
   ]
  },
  {
   "cell_type": "code",
   "execution_count": null,
   "metadata": {},
   "outputs": [],
   "source": []
  },
  {
   "cell_type": "code",
   "execution_count": null,
   "metadata": {},
   "outputs": [],
   "source": [
    "print(range(5))"
   ]
  },
  {
   "cell_type": "code",
   "execution_count": null,
   "metadata": {},
   "outputs": [],
   "source": [
    "for i in range(5):\n",
    "    print(i,\"hello world\")\n",
    "    "
   ]
  },
  {
   "cell_type": "code",
   "execution_count": null,
   "metadata": {},
   "outputs": [],
   "source": [
    "#for i in range(1,5):\n",
    "for i in range(1,5,2):\n",
    "    print(i,\"hello world\")\n",
    "    "
   ]
  },
  {
   "cell_type": "code",
   "execution_count": null,
   "metadata": {},
   "outputs": [],
   "source": [
    "#for decrement\n",
    "\n",
    "for i in range(5,0,-1):\n",
    "    print(i,\"hello world e\")"
   ]
  },
  {
   "cell_type": "code",
   "execution_count": null,
   "metadata": {},
   "outputs": [],
   "source": [
    "for i in range(1,11):\n",
    "    print(5*i)\n"
   ]
  },
  {
   "cell_type": "code",
   "execution_count": null,
   "metadata": {},
   "outputs": [],
   "source": [
    "s = 0\n",
    "n = int(input(\"enter the value of n = \"))\n",
    "for i in range(n):\n",
    "    x = int(input(\"enter the value of x = \"))\n",
    "    s = s+x\n",
    "print(\"the sum is s = \", s)    "
   ]
  },
  {
   "cell_type": "code",
   "execution_count": null,
   "metadata": {},
   "outputs": [],
   "source": [
    "s = 0\n",
    "n = int(input(\"enter the value of n = \"))\n",
    "for i in range(n):\n",
    "    x = int(input(\"enter the value of x = \"))\n",
    "    s = s+x\n",
    "print(\"the sum is s = \", s)\n"
   ]
  },
  {
   "cell_type": "code",
   "execution_count": null,
   "metadata": {},
   "outputs": [],
   "source": [
    "n= int(input(\"enter n = \"))\n",
    "for i in range(1,11):\n",
    "    print(n ,\"*\", i, \"=\", n*i)"
   ]
  },
  {
   "cell_type": "code",
   "execution_count": null,
   "metadata": {},
   "outputs": [],
   "source": [
    "#a = int(input(\"enter a = \"))\n",
    "a = \"python\"\n",
    "for i in a:\n",
    "    print(i, end  = \" \")\n",
    "    \n"
   ]
  },
  {
   "cell_type": "code",
   "execution_count": null,
   "metadata": {},
   "outputs": [],
   "source": [
    "a = \"python\"\n",
    "for i in a :\n",
    "    print(i,\"hello world\")\n",
    "    "
   ]
  },
  {
   "cell_type": "code",
   "execution_count": null,
   "metadata": {},
   "outputs": [],
   "source": [
    "a = [\"Apple\", \"Ball\", \"Cat\", \"Dog\"]\n",
    "for i in a:\n",
    "    print(i)"
   ]
  },
  {
   "cell_type": "code",
   "execution_count": 18,
   "metadata": {},
   "outputs": [
    {
     "name": "stdout",
     "output_type": "stream",
     "text": [
      "p y t h o n "
     ]
    }
   ],
   "source": [
    "a = \"python\"\n",
    "n = len(a)\n",
    "for i in range (n):\n",
    "    print(a[i], end = \" \")"
   ]
  },
  {
   "cell_type": "code",
   "execution_count": 33,
   "metadata": {},
   "outputs": [
    {
     "name": "stdout",
     "output_type": "stream",
     "text": [
      "Apple\n",
      "Ball\n",
      "there is cat.\n",
      "Cat\n",
      "Dog\n"
     ]
    }
   ],
   "source": [
    "a = [\"Apple\", \"Ball\", \"Cat\", \"Dog\"]\n",
    "for i in a:\n",
    "    if i == \"Cat\":\n",
    "        print(\"there is cat.\")\n",
    "    print(i)"
   ]
  },
  {
   "cell_type": "code",
   "execution_count": 30,
   "metadata": {},
   "outputs": [
    {
     "name": "stdout",
     "output_type": "stream",
     "text": [
      "h e l l o "
     ]
    }
   ],
   "source": [
    "a = \"hello world\"\n",
    "for i in a:\n",
    "    if i == \" \":\n",
    "        break\n",
    "    else:\n",
    "        print(i, end = \" \")"
   ]
  },
  {
   "cell_type": "code",
   "execution_count": 40,
   "metadata": {},
   "outputs": [
    {
     "name": "stdout",
     "output_type": "stream",
     "text": [
      "helloworld"
     ]
    }
   ],
   "source": [
    "a = \"hello world\"\n",
    "for i in a:\n",
    "    if i == \" \":\n",
    "        continue\n",
    "     \n",
    "    print(i, end = \"\")"
   ]
  },
  {
   "cell_type": "code",
   "execution_count": 42,
   "metadata": {},
   "outputs": [
    {
     "name": "stdout",
     "output_type": "stream",
     "text": [
      "Apple\n",
      "Ball\n"
     ]
    }
   ],
   "source": [
    "a = [\"Apple\", \"Ball\", \"Cat\", \"Dog\",\"Cat\", \"Cat\",\"Cat\",\"Dog\",\"Dog\"]\n",
    "for i in a:\n",
    "    if(i == \"Cat\") or (i == \"Dog\"):\n",
    "        continue\n",
    "    print(i)"
   ]
  },
  {
   "cell_type": "code",
   "execution_count": 43,
   "metadata": {},
   "outputs": [
    {
     "name": "stdout",
     "output_type": "stream",
     "text": [
      "enter n = 2\n",
      "2\n",
      "4\n",
      "6\n",
      "8\n",
      "10\n",
      "12\n",
      "14\n",
      "16\n",
      "18\n",
      "20\n"
     ]
    }
   ],
   "source": [
    "n = int(input(\"enter n = \"))\n",
    "for i in range(1,21):\n",
    "    if i%2 !=0:\n",
    "        continue\n",
    "    print(i)    "
   ]
  },
  {
   "cell_type": "code",
   "execution_count": 47,
   "metadata": {},
   "outputs": [
    {
     "name": "stdout",
     "output_type": "stream",
     "text": [
      "lower limit0\n",
      "enter upper limit100\n",
      "2\n",
      "3\n",
      "5\n",
      "7\n",
      "11\n",
      "13\n",
      "17\n",
      "19\n",
      "23\n",
      "29\n",
      "31\n",
      "37\n",
      "41\n",
      "43\n",
      "47\n",
      "53\n",
      "59\n",
      "61\n",
      "67\n",
      "71\n",
      "73\n",
      "79\n",
      "83\n",
      "89\n",
      "97\n"
     ]
    }
   ],
   "source": [
    "a = int(input(\"lower limit\"))\n",
    "b = int(input(\"enter upper limit\"))\n",
    "for num in range(a,b+1):\n",
    "    if num>1:\n",
    "        for i in range(2,num):\n",
    "            if(num%i) == 0:\n",
    "                break\n",
    "        else:\n",
    "            print(num)\n",
    "    \n",
    "            "
   ]
  },
  {
   "cell_type": "code",
   "execution_count": 16,
   "metadata": {},
   "outputs": [
    {
     "name": "stdout",
     "output_type": "stream",
     "text": [
      "enter n = 5\n",
      "1\n",
      "2\n",
      "6\n",
      "24\n",
      "120\n"
     ]
    }
   ],
   "source": [
    "#factorial\n",
    "fac = 1\n",
    "n = int(input(\"enter n = \"))\n",
    "for i in range(1,n+1):\n",
    "    fac = fac*i\n",
    "    \n",
    "    print(fac)   \n",
    "    \n",
    "    "
   ]
  },
  {
   "cell_type": "code",
   "execution_count": 1,
   "metadata": {},
   "outputs": [
    {
     "name": "stdout",
     "output_type": "stream",
     "text": [
      "enter the value of n = 5\n",
      "0\n",
      "1\n",
      "1\n",
      "2\n",
      "3\n",
      "5\n",
      "8\n"
     ]
    }
   ],
   "source": [
    "#fibonacci Series\n",
    "a = 0\n",
    "b = 1\n",
    "n = int(input(\"enter the value of n = \"))\n",
    "print (a)\n",
    "print(b)\n",
    "for i in range(0, n):\n",
    "    c = a+b\n",
    "    a = b\n",
    "    b = c\n",
    "    print(c)"
   ]
  },
  {
   "cell_type": "code",
   "execution_count": 3,
   "metadata": {},
   "outputs": [
    {
     "name": "stdout",
     "output_type": "stream",
     "text": [
      "3\n"
     ]
    }
   ],
   "source": [
    "x = [1,2.3,\"simplelearn\"]\n",
    "length = 0\n",
    "i = 0\n",
    "try:\n",
    "    while x[i]:\n",
    "        length = length+1\n",
    "        i+=1\n",
    "except IndexError:\n",
    "    print(length)\n",
    "    \n"
   ]
  },
  {
   "cell_type": "code",
   "execution_count": 5,
   "metadata": {
    "scrolled": true
   },
   "outputs": [
    {
     "name": "stdout",
     "output_type": "stream",
     "text": [
      "enter value of n = 5\n",
      "1\n",
      "22\n",
      "333\n",
      "4444\n",
      "55555\n"
     ]
    }
   ],
   "source": [
    "#nested while\n",
    "n = int(input(\"enter value of n = \"))\n",
    "i = 1\n",
    "while i<=n:\n",
    "    j=1\n",
    "    while j<=i:\n",
    "        print(i, end = \"\")\n",
    "        j+=1\n",
    "    i+=1\n",
    "    print()\n"
   ]
  },
  {
   "cell_type": "code",
   "execution_count": null,
   "metadata": {},
   "outputs": [
    {
     "name": "stdout",
     "output_type": "stream",
     "text": [
      "5149\n",
      "enter a 4 digit number5123\n",
      "2 were guessed right,\n"
     ]
    }
   ],
   "source": [
    "import random\n",
    "nump = random.randint(1000,9999)\n",
    "print(nump)\n",
    "n = int(input(\"enter a 4 digit number\"))\n",
    "\n",
    "while n!= 10:\n",
    "    num = nump\n",
    "    cor = 0\n",
    "    while num%10:\n",
    "        numc = num%10\n",
    "        nc = n%10\n",
    "        num = num//10\n",
    "        n = n//10\n",
    "        if numc == nc:\n",
    "            cor = cor+1\n",
    "    if(cor == 4):\n",
    "            print(\"you gussed it all right!\")\n",
    "            break  \n",
    "    else:\n",
    "        print(\"%d were guessed right,\" %cor)\n",
    "        n = int(input(\"enter a 4 digit number\"))\n",
    "else:\n",
    "    print(\"you quit the game\")\n",
    "                \n",
    "        \n",
    "    \n"
   ]
  },
  {
   "cell_type": "code",
   "execution_count": null,
   "metadata": {},
   "outputs": [],
   "source": []
  },
  {
   "cell_type": "code",
   "execution_count": null,
   "metadata": {},
   "outputs": [],
   "source": []
  }
 ],
 "metadata": {
  "kernelspec": {
   "display_name": "Python 3",
   "language": "python",
   "name": "python3"
  },
  "language_info": {
   "codemirror_mode": {
    "name": "ipython",
    "version": 3
   },
   "file_extension": ".py",
   "mimetype": "text/x-python",
   "name": "python",
   "nbconvert_exporter": "python",
   "pygments_lexer": "ipython3",
   "version": "3.8.5"
  }
 },
 "nbformat": 4,
 "nbformat_minor": 4
}
